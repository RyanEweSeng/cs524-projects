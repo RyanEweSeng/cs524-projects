{
 "cells": [
  {
   "cell_type": "markdown",
   "id": "10605eed",
   "metadata": {},
   "source": [
    "# CS 524 - Homework 8"
   ]
  },
  {
   "cell_type": "markdown",
   "id": "9ab01bb2",
   "metadata": {},
   "source": [
    "## Question 2a"
   ]
  },
  {
   "cell_type": "markdown",
   "id": "2da374e8",
   "metadata": {},
   "source": [
    "first step is to express this as a geometric program:\n",
    "\n",
    "$$\n",
    "\\text{maximize} \\quad \\alpha_4Tr^2 \\\\\n",
    "\\text{subject to} \\quad \\frac{\\alpha_1Tr}{w} + \\alpha_2r + \\alpha_3rw \\leq C_{max} \\\\\n",
    "T_{min} \\leq T \\leq T_{max} \\\\\n",
    "r_{min} \\leq r \\leq r_{max} \\\\\n",
    "w_{min} \\leq w \\leq w_{max} \\\\\n",
    "w \\leq 0.1r\n",
    "$$\n",
    "\n",
    "to convert to a convex optimization program we use the following: $x = \\log T \\quad$ $y = \\log r \\quad$ $z = \\log w \\quad$\n",
    "\n",
    "$$\n",
    "\\text{maximize} \\quad \\log \\alpha_4 + x + 2y \\\\\n",
    "\\text{subject to} \\quad \\log (e^{\\log \\alpha_1 + x + y - z} + e^{\\log \\alpha_2 + y} + e^{\\log \\alpha_3 + y + z}) \\leq \\log C_{max} \\\\\n",
    "\\log T_{min} \\leq x \\leq \\log T_{max} \\\\\n",
    "\\log r_{min} \\leq y \\leq \\log r_{max} \\\\\n",
    "\\log w_{min} \\leq z \\leq \\log w_{max} \\\\\n",
    "z \\leq \\log 0.1 + y\n",
    "$$"
   ]
  },
  {
   "cell_type": "markdown",
   "id": "6627ab3a",
   "metadata": {},
   "source": [
    "## Question 2b"
   ]
  },
  {
   "cell_type": "code",
   "execution_count": 8,
   "id": "6137489c",
   "metadata": {},
   "outputs": [
    {
     "name": "stdout",
     "output_type": "stream",
     "text": [
      "T: 23.840239447809125\n",
      "r: 46.390428083369095\n",
      "w: 4.63904279465654\n",
      "Max Heat Flow: 10.845561179387495\n"
     ]
    }
   ],
   "source": [
    "using JuMP, Ipopt\n",
    "\n",
    "α1 = α2 = α3 = α4 = 1\n",
    "C = 500\n",
    "\n",
    "m_heatflow = Model(with_optimizer(Ipopt.Optimizer, print_level=0))\n",
    "\n",
    "@variable(m_heatflow, x)\n",
    "@variable(m_heatflow, y)\n",
    "@variable(m_heatflow, z)\n",
    "\n",
    "@NLconstraint(m_heatflow, log(exp(x+y-z) + exp(y) + exp(y+z)) <= log(C))\n",
    "\n",
    "@constraint(m_heatflow, z <= log(0.1) + y)\n",
    "@objective(m_heatflow, Max, x + 2y)\n",
    " \n",
    "optimize!(m_heatflow)\n",
    "\n",
    "println(\"T: \", exp(value(x)))\n",
    "println(\"r: \", exp(value(y)))\n",
    "println(\"w: \", exp(value(z)))\n",
    "println(\"Max Heat Flow: \", objective_value(m_heatflow))"
   ]
  },
  {
   "cell_type": "code",
   "execution_count": null,
   "id": "e6206a1d",
   "metadata": {},
   "outputs": [],
   "source": []
  }
 ],
 "metadata": {
  "kernelspec": {
   "display_name": "Julia 1.7.1",
   "language": "julia",
   "name": "julia-1.7"
  },
  "language_info": {
   "file_extension": ".jl",
   "mimetype": "application/julia",
   "name": "julia",
   "version": "1.7.1"
  }
 },
 "nbformat": 4,
 "nbformat_minor": 5
}
