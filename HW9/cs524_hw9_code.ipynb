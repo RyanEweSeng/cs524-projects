{
 "cells": [
  {
   "cell_type": "markdown",
   "id": "f0c6bee0",
   "metadata": {},
   "source": [
    "# CS 524 - Homework 9\n"
   ]
  },
  {
   "cell_type": "markdown",
   "id": "40462d85",
   "metadata": {},
   "source": [
    "## Question 1"
   ]
  },
  {
   "cell_type": "code",
   "execution_count": 17,
   "id": "bab0f348",
   "metadata": {},
   "outputs": [
    {
     "name": "stdout",
     "output_type": "stream",
     "text": [
      "Set parameter Username\r\n",
      "Academic license - for non-commercial use only - expires 2022-05-14\r\n",
      "\n",
      "ABC should invest in the following options with the respective amounts (millions):\n",
      "    Option 3: 35.0\n",
      "    Option 4: 5.0\n",
      "    Option 5: 22.5\n",
      "    Option 6: 17.5\n",
      "\n",
      "This will yield a total return on investment of: $13.5 million\n"
     ]
    }
   ],
   "source": [
    "min_price = [3 2 9 5 12 4]\n",
    "max_price = [27 12 35 15 46 18]\n",
    "returns = [0.13 0.09 0.17 0.1 0.22 0.12]\n",
    "total = 80\n",
    "\n",
    "using JuMP, Gurobi\n",
    "\n",
    "m_abc = Model(with_optimizer(Gurobi.Optimizer, OutputFlag=0))\n",
    "\n",
    "@variable(m_abc, amt[1:6] >= 0)  # amount invested\n",
    "@variable(m_abc, flag[1:6], Bin)  # flag if we are choosing that option\n",
    "\n",
    "@objective(m_abc, Max, sum(amt[i] * returns[i] for i in 1:6))\n",
    "\n",
    "@constraint(m_abc, sum(amt) <= total)  # ABC only has $80mil to spend\n",
    "@constraint(m_abc, amt[5] <= amt[2] + amt[4] + amt[6])  # option 5 must be no more than the combined amounts of options 2, 4, 6\n",
    "@constraint(m_abc, flag[3] == flag[6])  # if option 3 is chosen, then option 6 must be chosen too\n",
    "\n",
    "for i in 1:6\n",
    "    @constraint(m_abc, min_price[i]*flag[i] <= amt[i])  # set lower bound of minimum investment\n",
    "    @constraint(m_abc, amt[i] <= max_price[i]*flag[i])  # set upper bound of maximum investment\n",
    "end\n",
    "\n",
    "optimize!(m_abc)\n",
    "\n",
    "amounts = value.(amt)\n",
    "flags = value.(flag)\n",
    "\n",
    "println()\n",
    "println(\"ABC should invest in the following options with the respective amounts (millions):\")\n",
    "for i in 1:6\n",
    "    if flags[i] == 1\n",
    "        println(\"    Option \", i, \": \", amounts[i])\n",
    "    end\n",
    "end\n",
    "println()\n",
    "println(\"This will yield a total return on investment of: \\$\", objective_value(m_abc), \" million\")"
   ]
  },
  {
   "cell_type": "code",
   "execution_count": null,
   "id": "11d6a479",
   "metadata": {},
   "outputs": [],
   "source": []
  }
 ],
 "metadata": {
  "kernelspec": {
   "display_name": "Julia 1.7.1",
   "language": "julia",
   "name": "julia-1.7"
  },
  "language_info": {
   "file_extension": ".jl",
   "mimetype": "application/julia",
   "name": "julia",
   "version": "1.7.1"
  }
 },
 "nbformat": 4,
 "nbformat_minor": 5
}
