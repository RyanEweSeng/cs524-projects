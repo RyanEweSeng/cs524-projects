{
 "cells": [
  {
   "cell_type": "markdown",
   "id": "a96696ee",
   "metadata": {},
   "source": [
    "# CS 524 - Homework 10"
   ]
  },
  {
   "cell_type": "markdown",
   "id": "26139851",
   "metadata": {},
   "source": [
    "## Question 1"
   ]
  },
  {
   "cell_type": "markdown",
   "id": "b9ccb7e2",
   "metadata": {},
   "source": [
    "## Question 2"
   ]
  },
  {
   "cell_type": "code",
   "execution_count": 43,
   "id": "c2b176eb",
   "metadata": {},
   "outputs": [
    {
     "name": "stdout",
     "output_type": "stream",
     "text": [
      "The republicans win in 3.0 out of 5 districts.\n",
      "\n",
      "The assignment of cities should be: \n",
      "               1     2     3     4     5     6     7     8     9     10\n",
      "District A:   0.0   0.0   0.0   0.0   0.0   0.0   1.0   0.0   0.0   1.0\n",
      "District B:   0.0   0.0   0.0   0.0   1.0   0.0   0.0   0.0   0.0   0.0\n",
      "District C:   1.0   0.0   0.0   0.0   0.0   0.0   0.0   0.0   1.0   0.0\n",
      "District D:   0.0   1.0   0.0   0.0   0.0   1.0   0.0   0.0   0.0   0.0\n",
      "District E:   0.0   0.0   1.0   1.0   0.0   0.0   0.0   1.0   0.0   0.0\n"
     ]
    }
   ],
   "source": [
    "using JuMP, Cbc, NamedArrays\n",
    "\n",
    "voter_data = [\n",
    "    80 34\n",
    "    60 44\n",
    "    40 44\n",
    "    20 24\n",
    "    40 114\n",
    "    40 64\n",
    "    70 14\n",
    "    50 44\n",
    "    70 54\n",
    "    70 64\n",
    "]\n",
    "\n",
    "party = [:r, :d]\n",
    "districts = [:A, :B, :C, :D, :E]\n",
    "cities = collect(1:10)\n",
    "\n",
    "voter_array = NamedArray(voter_data, (cities, party))\n",
    "\n",
    "m_vote = Model(with_optimizer(Cbc.Optimizer, logLevel=0))\n",
    "\n",
    "@variable(m_vote, present[districts, cities], Bin)  # to see which city is in which district\n",
    "@variable(m_vote, win[districts], Bin)  # to see if district is won\n",
    "\n",
    "# ensure all voters in a city must be in the same district\n",
    "for city in cities\n",
    "    @constraint(m_vote, sum(present[d,city] for d in districts) == 1)\n",
    "end\n",
    "\n",
    "# each district must contain between 150,000 and 250,000 voters\n",
    "for d in districts\n",
    "    @constraint(m_vote, 150 <= sum((voter_array[c,:r] + voter_array[c,:d])*present[d,c] for c in cities))\n",
    "    @constraint(m_vote, sum((voter_array[c,:r] + voter_array[c,:d])*present[d,c] for c in cities) <= 250)\n",
    "end\n",
    "\n",
    "for d in districts\n",
    "    @constraint(m_vote, sum((voter_array[c,:r] - voter_array[c,:d])*present[d,c] for c in cities) <= 100*(1-win[d]))\n",
    "end\n",
    "\n",
    "# maximize republican wins in each district (rep must win)\n",
    "@objective(m_vote, Max, sum(win))\n",
    "\n",
    "optimize!(m_vote)\n",
    "res = value.(present)\n",
    "\n",
    "println(\"The republicans win in \", objective_value(m_vote), \" out of 5 districts.\")\n",
    "println()\n",
    "println(\"The assignment of cities should be: \")\n",
    "println(\"               1     2     3     4     5     6     7     8     9     10\")\n",
    "for d in districts\n",
    "    print(\"District \", d, \":\")\n",
    "    for c in cities\n",
    "        print(\"   \", res[d, c])\n",
    "    end\n",
    "    println()\n",
    "end"
   ]
  },
  {
   "cell_type": "markdown",
   "id": "3e082612",
   "metadata": {},
   "source": [
    "## Question 3 Helper"
   ]
  },
  {
   "cell_type": "code",
   "execution_count": 52,
   "id": "b7914dc9",
   "metadata": {},
   "outputs": [
    {
     "data": {
      "text/plain": [
       "printBoard (generic function with 1 method)"
      ]
     },
     "execution_count": 52,
     "metadata": {},
     "output_type": "execute_result"
    }
   ],
   "source": [
    "# function to print chess board with queens\n",
    "function printBoard(Q,n)\n",
    "    print(\"+\")\n",
    "    for i in 1:n\n",
    "        print(\"---+\")\n",
    "    end\n",
    "    print(\"\\n\")\n",
    "    \n",
    "    for i in 1:n\n",
    "        print(\"| \")\n",
    "        for j in 1:n\n",
    "            Q[i,j] == 1 ? print(\"Q\") : print(\" \")\n",
    "            print(\" | \")\n",
    "        end\n",
    "        print(\"\\n\")\n",
    "        print(\"+\")\n",
    "        for j in 1:n\n",
    "            print(\"---+\")\n",
    "        end\n",
    "        print(\"\\n\")\n",
    "    end\n",
    "end"
   ]
  },
  {
   "cell_type": "markdown",
   "id": "562567da",
   "metadata": {},
   "source": [
    "## Question 3a"
   ]
  },
  {
   "cell_type": "code",
   "execution_count": 66,
   "id": "da40ebbd",
   "metadata": {},
   "outputs": [
    {
     "name": "stdout",
     "output_type": "stream",
     "text": [
      "+---+---+---+---+---+---+---+---+\n",
      "|   |   | Q |   |   |   |   |   | \n",
      "+---+---+---+---+---+---+---+---+\n",
      "|   |   |   |   |   | Q |   |   | \n",
      "+---+---+---+---+---+---+---+---+\n",
      "|   |   |   |   |   |   |   | Q | \n",
      "+---+---+---+---+---+---+---+---+\n",
      "| Q |   |   |   |   |   |   |   | \n",
      "+---+---+---+---+---+---+---+---+\n",
      "|   |   |   |   | Q |   |   |   | \n",
      "+---+---+---+---+---+---+---+---+\n",
      "|   |   |   |   |   |   | Q |   | \n",
      "+---+---+---+---+---+---+---+---+\n",
      "|   | Q |   |   |   |   |   |   | \n",
      "+---+---+---+---+---+---+---+---+\n",
      "|   |   |   | Q |   |   |   |   | \n",
      "+---+---+---+---+---+---+---+---+\n"
     ]
    }
   ],
   "source": [
    "using JuMP, Cbc\n",
    "\n",
    "n_queens = 8\n",
    "\n",
    "m_queen_a = Model(with_optimizer(Cbc.Optimizer, logLevel=0))\n",
    "\n",
    "@variable(m_queen_a, q[1:n_queens,1:n_queens], Bin) # position of queen(s)\n",
    "\n",
    "for i in 1:n_queens\n",
    "    # ensure one queen per row and column\n",
    "    @constraint(m_queen_a, sum(q[i,j] for j in 1:n_queens) == 1)\n",
    "    @constraint(m_queen_a, sum(q[j,i] for j in 1:n_queens) == 1)\n",
    "    \n",
    "    # ensure one queen per left and right upper diagonal\n",
    "    @constraint(m_queen_a, sum(q[i+k,1+k] for k in 0:n_queens-i) <= 1)\n",
    "    @constraint(m_queen_a, sum(q[i-k,1+k] for k in 0:i-1) <= 1)\n",
    "end\n",
    "\n",
    "# ensure one queen per left and right lower diagonal\n",
    "for j in 2:n_queens\n",
    "    @constraint(m_queen_a, sum(q[1+k,j+k] for k in 0:n_queens-j) <= 1)\n",
    "    @constraint(m_queen_a, sum(q[n_queens-k,j+k] for k in 0:n_queens-j) <= 1)\n",
    "end\n",
    "\n",
    "# no two queens threaten each other w/o 180 rotational symmetry\n",
    "@objective(m_queen_a, Min, sum(q))\n",
    "\n",
    "optimize!(m_queen_a)\n",
    "Q = value.(q)\n",
    "printBoard(Q, n_queens)"
   ]
  },
  {
   "cell_type": "markdown",
   "id": "fc0b0b07",
   "metadata": {},
   "source": [
    "## Question 3b"
   ]
  },
  {
   "cell_type": "code",
   "execution_count": 67,
   "id": "4ed805d6",
   "metadata": {},
   "outputs": [
    {
     "name": "stdout",
     "output_type": "stream",
     "text": [
      "+---+---+---+---+---+---+---+---+\n",
      "|   |   | Q |   |   |   |   |   | \n",
      "+---+---+---+---+---+---+---+---+\n",
      "|   |   |   |   | Q |   |   |   | \n",
      "+---+---+---+---+---+---+---+---+\n",
      "|   | Q |   |   |   |   |   |   | \n",
      "+---+---+---+---+---+---+---+---+\n",
      "|   |   |   |   |   |   |   | Q | \n",
      "+---+---+---+---+---+---+---+---+\n",
      "| Q |   |   |   |   |   |   |   | \n",
      "+---+---+---+---+---+---+---+---+\n",
      "|   |   |   |   |   |   | Q |   | \n",
      "+---+---+---+---+---+---+---+---+\n",
      "|   |   |   | Q |   |   |   |   | \n",
      "+---+---+---+---+---+---+---+---+\n",
      "|   |   |   |   |   | Q |   |   | \n",
      "+---+---+---+---+---+---+---+---+\n"
     ]
    }
   ],
   "source": [
    "using JuMP, Cbc\n",
    "\n",
    "n_queens = 8\n",
    "\n",
    "m_queen_b = Model(with_optimizer(Cbc.Optimizer, logLevel=0))\n",
    "\n",
    "@variable(m_queen_b, q[1:n_queens,1:n_queens], Bin) # position of queen(s)\n",
    "\n",
    "for i in 1:n_queens\n",
    "    # ensure one queen per row and column\n",
    "    @constraint(m_queen_b, sum(q[i,j] for j in 1:n_queens) == 1)\n",
    "    @constraint(m_queen_b, sum(q[j,i] for j in 1:n_queens) == 1)\n",
    "    \n",
    "    # ensure one queen per left and right upper diagonal\n",
    "    @constraint(m_queen_b, sum(q[i+k,1+k] for k in 0:n_queens-i) <= 1)\n",
    "    @constraint(m_queen_b, sum(q[i-k,1+k] for k in 0:i-1) <= 1)\n",
    "end\n",
    "\n",
    "# ensure one queen per left and right lower diagonal\n",
    "for j in 2:n_queens\n",
    "    @constraint(m_queen_b, sum(q[1+k,j+k] for k in 0:n_queens-j) <= 1)\n",
    "    @constraint(m_queen_b, sum(q[n_queens-k,j+k] for k in 0:n_queens-j) <= 1)\n",
    "end\n",
    "\n",
    "# symmetry constraint\n",
    "for i in 1:n_queens\n",
    "    for j in i:n_queens\n",
    "        @constraint(m_queen_b, q[i,j] == q[n_queens-i+1,n_queens-j+1] )\n",
    "    end\n",
    "end\n",
    "\n",
    "# no two queens threaten each other w/ 180 rotational symmetry\n",
    "@objective(m_queen_b, Min, sum(q))\n",
    "\n",
    "optimize!(m_queen_b)\n",
    "Q = value.(q)\n",
    "printBoard(Q, n_queens)"
   ]
  },
  {
   "cell_type": "markdown",
   "id": "d38f9dc8",
   "metadata": {},
   "source": [
    " ## Question 3c"
   ]
  },
  {
   "cell_type": "code",
   "execution_count": 72,
   "id": "fea8f21c",
   "metadata": {},
   "outputs": [
    {
     "name": "stdout",
     "output_type": "stream",
     "text": [
      "+---+---+---+---+---+---+---+---+\n",
      "|   | Q |   |   |   |   |   |   | \n",
      "+---+---+---+---+---+---+---+---+\n",
      "|   |   |   | Q |   |   |   |   | \n",
      "+---+---+---+---+---+---+---+---+\n",
      "| Q |   |   |   |   |   |   |   | \n",
      "+---+---+---+---+---+---+---+---+\n",
      "|   |   | Q |   |   |   |   |   | \n",
      "+---+---+---+---+---+---+---+---+\n",
      "|   |   |   |   |   |   |   |   | \n",
      "+---+---+---+---+---+---+---+---+\n",
      "|   |   |   |   |   |   |   |   | \n",
      "+---+---+---+---+---+---+---+---+\n",
      "|   |   |   |   |   |   |   |   | \n",
      "+---+---+---+---+---+---+---+---+\n",
      "|   |   |   |   |   |   |   | Q | \n",
      "+---+---+---+---+---+---+---+---+\n"
     ]
    }
   ],
   "source": [
    "using JuMP, Cbc\n",
    "\n",
    "n_queens = 8\n",
    "\n",
    "m_queen_c = Model(with_optimizer(Cbc.Optimizer, logLevel=0))\n",
    "\n",
    "@variable(m_queen_c, q[1:n_queens,1:n_queens], Bin) # position of queen(s)\n",
    "\n",
    "# each square must be threatened\n",
    "for i = 1:n_queens\n",
    "    for j = 1:n_queens\n",
    "        @constraint(\n",
    "            m_queen_c, sum(q[i,:]) + sum(q[:,j])\n",
    "            + sum(q[i+k,j+k] for k = max(1-i,1-j):min(n_queens-i,n_queens-j))\n",
    "            + sum(q[i+k,j-k] for k = max(1-i,n_queens-j):min(n_queens-i,1-j)) >= 1\n",
    "        )\n",
    "    end\n",
    "end\n",
    "\n",
    "# each empty cell is threatened w/o 180 rotational symmetry\n",
    "@objective(m_queen_c, Min, sum(q))\n",
    "\n",
    "optimize!(m_queen_c)\n",
    "Q = value.(q)\n",
    "printBoard(Q, n_queens)"
   ]
  },
  {
   "cell_type": "markdown",
   "id": "1f2c386f",
   "metadata": {},
   "source": [
    "## Question 3d"
   ]
  },
  {
   "cell_type": "code",
   "execution_count": 75,
   "id": "353442e9",
   "metadata": {},
   "outputs": [
    {
     "name": "stdout",
     "output_type": "stream",
     "text": [
      "+---+---+---+---+---+---+---+---+\n",
      "| Q |   |   |   |   |   |   |   | \n",
      "+---+---+---+---+---+---+---+---+\n",
      "|   |   |   |   |   | Q |   |   | \n",
      "+---+---+---+---+---+---+---+---+\n",
      "|   |   |   |   |   |   |   |   | \n",
      "+---+---+---+---+---+---+---+---+\n",
      "|   |   |   |   | Q |   |   |   | \n",
      "+---+---+---+---+---+---+---+---+\n",
      "|   |   |   | Q |   |   |   |   | \n",
      "+---+---+---+---+---+---+---+---+\n",
      "|   |   |   |   |   |   |   |   | \n",
      "+---+---+---+---+---+---+---+---+\n",
      "|   |   | Q |   |   |   |   |   | \n",
      "+---+---+---+---+---+---+---+---+\n",
      "|   |   |   |   |   |   |   | Q | \n",
      "+---+---+---+---+---+---+---+---+\n"
     ]
    }
   ],
   "source": [
    "using JuMP, Cbc\n",
    "\n",
    "n_queens = 8\n",
    "\n",
    "m_queen_d = Model(with_optimizer(Cbc.Optimizer, logLevel=0))\n",
    "\n",
    "@variable(m_queen_d, q[1:n_queens,1:n_queens], Bin) # position of queen(s)\n",
    "\n",
    "# each square must be threatened\n",
    "for i = 1:n_queens\n",
    "    for j = 1:n_queens\n",
    "        @constraint(\n",
    "            m_queen_d, sum(q[i,:]) + sum(q[:,j])\n",
    "            + sum(q[i+k,j+k] for k = max(1-i,1-j):min(n_queens-i,n_queens-j))\n",
    "            + sum(q[i+k,j-k] for k = max(1-i,n_queens-j):min(n_queens-i,1-j)) >= 1\n",
    "        )\n",
    "    end\n",
    "end\n",
    "\n",
    "# symmetry constraint\n",
    "for i in 1:n_queens\n",
    "    for j in i:n_queens\n",
    "        @constraint(m_queen_d, q[i,j] == q[n_queens-i+1,n_queens-j+1] )\n",
    "    end\n",
    "end\n",
    "\n",
    "# each empty cell is threatened w/ 180 rotational symmetry\n",
    "@objective(m_queen_d, Min, sum(q))\n",
    "\n",
    "optimize!(m_queen_d)\n",
    "Q = value.(q)\n",
    "printBoard(Q, n_queens)"
   ]
  },
  {
   "cell_type": "code",
   "execution_count": null,
   "id": "d6e69dc9",
   "metadata": {},
   "outputs": [],
   "source": []
  }
 ],
 "metadata": {
  "kernelspec": {
   "display_name": "Julia 1.7.1",
   "language": "julia",
   "name": "julia-1.7"
  },
  "language_info": {
   "file_extension": ".jl",
   "mimetype": "application/julia",
   "name": "julia",
   "version": "1.7.1"
  }
 },
 "nbformat": 4,
 "nbformat_minor": 5
}
