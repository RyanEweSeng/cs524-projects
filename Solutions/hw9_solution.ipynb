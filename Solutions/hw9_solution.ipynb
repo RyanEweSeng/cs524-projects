{
 "cells": [
  {
   "cell_type": "markdown",
   "metadata": {},
   "source": [
    "# 1. ABC Investments\n",
    "\n",
    "ABC Inc. is considering several investment options.  Each option has a minimum investment required as well as a maximum investment allowed. These restrictions, along with the expected return are summarized in the following table (figures are in millions of dollars):\n",
    "\n",
    "|Option | Minimum investment | Maximum investment | Expected return (%)  |\n",
    "|:-----:|:------------------:|:------------------:|:--------------------:|\n",
    "|  1    |      3             |      27            |     13               |\n",
    "|  2    |      2             |      12            |      9               |\n",
    "|  3    |      9             |      35            |     17               |\n",
    "|  4    |      5             |      15            |     10               |\n",
    "|  5    |     12             |      46            |     22               |\n",
    "|  6    |      4             |      18            |     12               |\n",
    "\n",
    "Because of the high-risk nature of Option 5, company policy requires that the total amount invested in Option 5 be no more that the combined amount invested in Options 2, 4 and 6.  In addition, if an investment is made in Option 3, it is required that at least a minimum investment be made in Option 6.  ABC has \\$80 million to invest and obviously wants to maximize its total expected return on investment.  Which options should ABC invest in, and how much should be invested?"
   ]
  },
  {
   "cell_type": "markdown",
   "metadata": {},
   "source": [
    "### Model\n",
    "Input: \n",
    "$lows_i$ (The minimum investment amount for each option)\n",
    "$highs_i$ (The maximum investment amount for each option)\n",
    "$ret_i$ (The expected return for each option)\n",
    "\n",
    "Variables: \n",
    "\n",
    "$x_i$ (the total amount invested on option i)\n",
    "\n",
    "$z_i$ (the binary varible, where $z_i=1$ means we invest on this option, $z_i=0$ means not invest on this one)\n",
    "\n",
    "Model:\n",
    "\n",
    "$$\\begin{aligned}\n",
    "\\text{minimize}\\qquad& \\sum_i \\frac{x_{i}ret_{i}}{100}  \\qquad \\text{Sum of all the expected returns we could get from the investment} \\\\\n",
    "\\text{subject to:}\\qquad& \\sum_i x_{i}   \\qquad \\text{The total investment amount should less than or equal to 80 million dollors}\\\\\n",
    "& x_5 \\leq x_2 + x_4 + x_6  \\qquad \\text{The investment amount on option 5 is no more than the combined amount on options 2, 4 and 6}\\\\\n",
    "& z_3 \\leq z_6  \\qquad \\text{if there is an investment in option 3, we must invest in option 6, which means if $z_3 = 1$ then $z_6$ must be equal to 1}\\\\\n",
    "& lows_{i}z_{i} \\leq x_i \\qquad \\forall i \\text{The minimum investment requirement. If we invest on option i, then $z_i = 1$, so $x_i \\geq lows_i$, otherwise $z_i=0$ and $x_i \\geq 0$ }\\\\\n",
    "& highs_{i}z_{i} \\geq x_i \\qquad \\forall i \\text{The maximum investment requirement. If we invest on option i, then $z_i = 1$, so $x_i \\leq highs_i$, otherwise $z_i=0$ and $x_i \\leq 0$ }\\\\\n",
    "& z_i \\in \\left\\{ 0,1\\right\\} \\qquad \\forall i\\\\\n",
    "\\end{aligned}$$"
   ]
  },
  {
   "cell_type": "code",
   "execution_count": 1,
   "metadata": {},
   "outputs": [
    {
     "name": "stderr",
     "output_type": "stream",
     "text": [
      "\u001b[32m\u001b[1m    Updating\u001b[22m\u001b[39m registry at `C:\\Users\\noahx\\.julia\\registries\\General`\n"
     ]
    },
    {
     "name": "stderr",
     "output_type": "stream",
     "text": [
      "\u001b[32m\u001b[1m    Updating\u001b[22m\u001b[39m git-repo `https://github.com/JuliaRegistries/General.git`"
     ]
    },
    {
     "name": "stderr",
     "output_type": "stream",
     "text": [
      "\n",
      "\u001b[32m\u001b[1m   Resolving\u001b[22m\u001b[39m package versions...\n"
     ]
    },
    {
     "name": "stderr",
     "output_type": "stream",
     "text": [
      "\u001b[32m\u001b[1m   Installed\u001b[22m\u001b[39m Osi_jll ─────── v0.10800.600+0\n",
      "\u001b[32m\u001b[1m   Installed\u001b[22m\u001b[39m Clp_jll ─────── v100.1700.601+0\n",
      "\u001b[32m\u001b[1m   Installed\u001b[22m\u001b[39m CoinUtils_jll ─ v200.1100.400+0\n",
      "\u001b[32m\u001b[1m   Installed\u001b[22m\u001b[39m Cgl_jll ─────── v0.6000.300+0\n",
      "\u001b[32m\u001b[1m   Installed\u001b[22m\u001b[39m Cbc_jll ─────── v200.1000.501+0\n",
      "\u001b[32m\u001b[1m   Installed\u001b[22m\u001b[39m Cbc ─────────── v1.0.0\n"
     ]
    },
    {
     "name": "stderr",
     "output_type": "stream",
     "text": [
      "\u001b[32m\u001b[1m    Updating\u001b[22m\u001b[39m"
     ]
    },
    {
     "name": "stderr",
     "output_type": "stream",
     "text": [
      " `C:\\Users\\noahx\\.julia\\environments\\v1.6\\Project.toml`\n",
      " \u001b[90m [9961bab8] \u001b[39m\u001b[92m+ Cbc v1.0.0\u001b[39m\n",
      "\u001b[32m\u001b[1m    Updating\u001b[22m\u001b[39m `C:\\Users\\noahx\\.julia\\environments\\v1.6\\Manifest.toml`\n",
      " \u001b[90m [9961bab8] \u001b[39m\u001b[92m+ Cbc v1.0.0\u001b[39m\n",
      " \u001b[90m [38041ee0] \u001b[39m\u001b[92m+ Cbc_jll v200.1000.501+0\u001b[39m\n",
      " \u001b[90m [3830e938] \u001b[39m\u001b[92m+ Cgl_jll v0.6000.300+0\u001b[39m\n",
      " \u001b[90m [06985876] \u001b[39m\u001b[92m+ Clp_jll v100.1700.601+0\u001b[39m\n",
      " \u001b[90m [be027038] \u001b[39m\u001b[92m+ CoinUtils_jll v200.1100.400+0\u001b[39m\n",
      " \u001b[90m [7da25872] \u001b[39m\u001b[92m+ Osi_jll v0.10800.600+0\u001b[39m"
     ]
    },
    {
     "name": "stderr",
     "output_type": "stream",
     "text": [
      "\n"
     ]
    },
    {
     "name": "stderr",
     "output_type": "stream",
     "text": [
      "\u001b[32m\u001b[1mPrecompiling\u001b[22m\u001b[39m"
     ]
    },
    {
     "name": "stderr",
     "output_type": "stream",
     "text": [
      " "
     ]
    },
    {
     "name": "stderr",
     "output_type": "stream",
     "text": [
      "project...\n"
     ]
    },
    {
     "name": "stderr",
     "output_type": "stream",
     "text": [
      "\u001b[32m  ✓ \u001b[39m\u001b[90mCoinUtils_jll\u001b[39m\n"
     ]
    },
    {
     "name": "stderr",
     "output_type": "stream",
     "text": [
      "\u001b[32m  ✓ \u001b[39m\u001b[90mOsi_jll\u001b[39m\n"
     ]
    }
   ],
   "source": [
    "using Pkg\n",
    "Pkg.add(\"Cbc\")"
   ]
  },
  {
   "cell_type": "code",
   "execution_count": 4,
   "metadata": {},
   "outputs": [
    {
     "name": "stdout",
     "output_type": "stream",
     "text": [
      "The maximum return on investment (net profit) is: $13.500000000000004 million.\n",
      "This is an average return of: 16.875000000000007 %\n",
      "Here is a tally of each investment, whether we invest or not, and how much we invest (in millions of $).\n"
     ]
    },
    {
     "data": {
      "text/plain": [
       "6×3 Matrix{Float64}:\n",
       " 1.0  0.0   0.0\n",
       " 2.0  0.0   0.0\n",
       " 3.0  1.0  35.0\n",
       " 4.0  1.0   5.0\n",
       " 5.0  1.0  22.5\n",
       " 6.0  1.0  17.5"
      ]
     },
     "execution_count": 4,
     "metadata": {},
     "output_type": "execute_result"
    }
   ],
   "source": [
    "using JuMP, Cbc\n",
    "m = Model(Cbc.Optimizer)\n",
    "set_silent(m)\n",
    "\n",
    "lows  = [  3,  2,  9,  5, 12,  4 ]  # minimum investment\n",
    "highs = [ 27, 12, 35, 15, 46, 18 ]  # maximum investment\n",
    "ret   = [ 13,  9, 17, 10, 22, 12 ]  # expected return\n",
    "\n",
    "@variable(m, x[1:6] >= 0)             # amount invested in each option\n",
    "@variable(m, z[1:6], Bin)             # indicator variable: do we invest in option i or not?\n",
    "\n",
    "@constraint(m, sum(x) <= 80)     # total investment limit\n",
    "\n",
    "# option 5 is no more than combined amounts from options 2, 4, and 6\n",
    "@constraint(m, x[5] <= x[2] + x[4] + x[6])\n",
    "\n",
    "# if there is an investment in option 3, we must invest in option 6.\n",
    "# in other words: if z[3] = 1, then z[6] = 1.\n",
    "@constraint(m, z[3] <= z[6])\n",
    "\n",
    "# variable lower bounds (if z=0 then x=0. if z=1 then low <= x <= hi)\n",
    "for i = 1:6\n",
    "    @constraint(m, lows[i]*z[i] <= x[i]  )\n",
    "    @constraint(m, x[i] <= highs[i]*z[i] )\n",
    "end\n",
    "\n",
    "@expression(m, expectedReturn, sum( x[i] * ret[i]/100 for i = 1:6) )\n",
    "\n",
    "@objective(m, Max, expectedReturn)\n",
    "\n",
    "optimize!(m)\n",
    "println(\"The maximum return on investment (net profit) is: \\$\", JuMP.objective_value(m), \" million.\")\n",
    "println(\"This is an average return of: \", 100*JuMP.objective_value(m)/JuMP.value(sum(x)), \" %\")\n",
    "println(\"Here is a tally of each investment, whether we invest or not, and how much we invest (in millions of \\$).\")\n",
    "JuMP.value.([1:6 z x])"
   ]
  },
  {
   "cell_type": "code",
   "execution_count": null,
   "metadata": {},
   "outputs": [],
   "source": []
  }
 ],
 "metadata": {
  "kernelspec": {
   "display_name": "Julia 1.6.0",
   "language": "julia",
   "name": "julia-1.6"
  },
  "language_info": {
   "file_extension": ".jl",
   "mimetype": "application/julia",
   "name": "julia",
   "version": "1.6.0"
  }
 },
 "nbformat": 4,
 "nbformat_minor": 2
}
