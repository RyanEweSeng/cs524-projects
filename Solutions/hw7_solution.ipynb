{
 "cells": [
  {
   "cell_type": "markdown",
   "metadata": {},
   "source": [
    "## 1. Quadratic form positivity\n",
    "\n",
    "You're presented with the constraint:\n",
    "\\begin{equation}\n",
    "2x^2 + 2y^2 + 9z^2 + 8xy -6xz - 6yz \\le 1 \\hspace{2cm} (1)\n",
    "\\end{equation}\n",
    "\n",
    "**a)** Write the constraint (1) in the standard form $v^\\mathsf{T} Q v \\le 1$. Where $Q$ is a symmetric matrix. What is $Q$ and what is $v$?\t\n",
    "\t\n",
    "**b)** It turns out the above constraint is _not_ convex. In other words, the set of $(x,y,z)$ satisfying the constraint (1) is not an ellipsoid. Explain why this is the case.\n",
    "\n",
    "**Note:** you can perform an orthogonal decomposition of a symmetric matrix $Q$ in Julia like this:\n",
    "```\n",
    "(L,U) = eig(Q)      # L is the vector of eigenvalues and U is orthogonal\n",
    "U * diagm(L) * U'   # this is equal to Q (as long as Q was symmetric to begin with)\n",
    "```\n",
    "\n",
    "**c)** We can also write the constraint (1) using norms by putting it in the form:\n",
    "\\begin{equation}\n",
    "\\|Av\\|^2 - \\|Bv\\|^2 \\le 1\n",
    "\\end{equation}\n",
    "What is $v$ and what are the matrices $A$ and $B$ that make the constraint above equivalent to (1)?\n",
    "\n",
    "**d)** Explain how to find a direction for a vector, $(x, y, z)$, such that $\\|(x, y, z)\\|_2$ is unbounded (can be made arbitrarily large) while satisfying constraint (1)."
   ]
  },
  {
   "cell_type": "markdown",
   "metadata": {},
   "source": [
    "**Solution to part a):**\n",
    "We want a matrix, $Q$, that satisfies:\n",
    "\n",
    "$$\\left[\\begin{matrix}\n",
    "    x & y & z\n",
    "\\end{matrix}\\right]\n",
    "\\left[\\begin{matrix}\n",
    "    Q_{11} & Q_{12} & Q_{13} \\\\\n",
    "    Q_{21} & Q_{22} & Q_{23} \\\\\n",
    "    Q_{31} & Q_{32} & Q_{33} \\\\\n",
    "\\end{matrix}\\right]\n",
    "\\left[\\begin{matrix}\n",
    "    x \\\\ y \\\\ z\n",
    "\\end{matrix}\\right]\n",
    "\\leq 1$$\n",
    "\n",
    "By inspection, the matrix $Q$ is:\n",
    "\\begin{equation}\n",
    "Q = \\begin{bmatrix} 2 & 4 & -3 \\\\ 4 & 2 & -3 \\\\ -3 & -3 & 9 \\end{bmatrix}\n",
    "\\end{equation}\n",
    "and $v$ is the vector $(x,y,z)$."
   ]
  },
  {
   "cell_type": "markdown",
   "metadata": {},
   "source": [
    "**Solution to part b)**\n",
    "\n",
    "We can figure out whether it's an ellipsoid by seeing if the eigenvalues are all nonnegative. Since one of the eigenvalues is negative and the others are positive, Q is indefinite. The constraint is therefore not an ellipsoid. See below."
   ]
  },
  {
   "cell_type": "code",
   "execution_count": 2,
   "metadata": {},
   "outputs": [
    {
     "data": {
      "text/plain": [
       "3-element Vector{Float64}:\n",
       " -1.9999999999999996\n",
       "  3.000000000000001\n",
       " 12.0"
      ]
     },
     "metadata": {},
     "output_type": "display_data"
    }
   ],
   "source": [
    "using LinearAlgebra\n",
    "\n",
    "Q = [2 4 -3; 4 2 -3; -3 -3 9]\n",
    "(L, U) = eigen(Q);\n",
    "L"
   ]
  },
  {
   "cell_type": "markdown",
   "metadata": {},
   "source": [
    "**Solution to part c)**\n",
    "\n",
    "We can split the constraint into two pieces by separating the positive eigenvalues from the negative ones. Since the eigenvalues are $\\{-2,3,12\\}$, our decomposition looks like:\n",
    "\\begin{align}\n",
    "Q &= -2 u_1 u_1^\\mathsf{T}+3 u_2 u_2^\\mathsf{T}+12 u_3 u_3^\\mathsf{T} \\\\\n",
    "&= \\left(3 u_2 u_2^\\mathsf{T}+12 u_3 u_3^\\mathsf{T}\\right) - \\left( 2 u_1 u_1^\\mathsf{T} \\right) \\\\\n",
    "&= \\begin{bmatrix}u_2 & u_3\\end{bmatrix} \\begin{bmatrix}3 & 0 \\\\ 0 & 12\\end{bmatrix} \\begin{bmatrix}u_2 & u_3\\end{bmatrix}^\\mathsf{T} - \\begin{bmatrix}u_1\\end{bmatrix} \\begin{bmatrix}2\\end{bmatrix} \\begin{bmatrix}u_1\\end{bmatrix}^\\mathsf{T}\n",
    "\\end{align}\n",
    "So this looks something like $U_1 Q_1 U_1^\\mathsf{T} - U_2 Q_2 U_2^\\mathsf{T}$, which is almost what we need. We want this to look like $A^\\mathsf{T}A - B^\\mathsf{T}B$. So one way to do this is to set:\n",
    "\\begin{equation}\n",
    "A = \\begin{bmatrix}\\sqrt3 & 0 \\\\ 0 & \\sqrt{12}\\end{bmatrix}\\begin{bmatrix}u_2 & u_3\\end{bmatrix}^\\mathsf{T}\n",
    "\\qquad\\text{and}\\qquad\n",
    "B = \\sqrt{2}\\, u_1^\\mathsf{T}\n",
    "\\end{equation}\n",
    "with $v = (x,y,z)$ as before. Let's test that it gives the correct result for a random point:"
   ]
  },
  {
   "cell_type": "code",
   "execution_count": 3,
   "metadata": {},
   "outputs": [
    {
     "name": "stdout",
     "output_type": "stream",
     "text": [
      "A is equal to: [-1.0 -1.0 -0.9999999999999997; -1.4142135623730943 -1.4142135623730943 2.8284271247461903]\n",
      "B is equal to: "
     ]
    },
    {
     "name": "stdout",
     "output_type": "stream",
     "text": [
      "[1.0000000000000002 -1.0 0.0]\n"
     ]
    },
    {
     "name": "stdout",
     "output_type": "stream",
     "text": [
      "v'Qv = -1.0276008777535126\n"
     ]
    },
    {
     "name": "stdout",
     "output_type": "stream",
     "text": [
      "|Av|^2 - |Bv|^2 = -1.027600877753513\n"
     ]
    }
   ],
   "source": [
    "using Random\n",
    "\n",
    "rng = MersenneTwister(1234)  # control our random vector\n",
    "Q = [2 4 -3; 4 2 -3; -3 -3 9]\n",
    "(L, U) = eigen(Q);\n",
    "v = randn(rng, (3, 1));\n",
    "\n",
    "A = diagm(0 => [sqrt.(3), sqrt.(12)]) * U[:, 2:3]'\n",
    "B = sqrt.(2) * U[:, 1]'\n",
    "println(\"A is equal to: \", A)\n",
    "println(\"B is equal to: \", B)\n",
    "println(\"v'Qv = \", (v'*Q*v)[1])\n",
    "println(\"|Av|^2 - |Bv|^2 = \", norm(A*v)^2 - norm(B*v)^2)"
   ]
  },
  {
   "cell_type": "markdown",
   "metadata": {},
   "source": [
    "**Alternative solution to part c)**\n",
    "\n",
    "We can do a similar split but by keeping the entire matrix together:\n",
    "\\begin{align}\n",
    "Q &= U \\begin{bmatrix}-2 & 0 & 0 \\\\ 0 & 3 & 0 \\\\ 0 & 0 & 12 \\end{bmatrix} U^\\mathsf{T} \\\\\n",
    "&= U \\begin{bmatrix}0 & 0 & 0 \\\\ 0 & 3 & 0 \\\\ 0 & 0 & 12 \\end{bmatrix} U^\\mathsf{T} - U \\begin{bmatrix}2 & 0 & 0 \\\\ 0 & 0 & 0 \\\\ 0 & 0 & 0 \\end{bmatrix} U^\\mathsf{T}\n",
    "\\end{align}\n",
    "So this looks something like $U Q_1 U^\\mathsf{T} - U Q_2 U^\\mathsf{T}$, where the $U$ matrices are square and orthogonal. We can find $A$ and $B$ by doing a matrix square root! This results in:\n",
    "\\begin{equation}\n",
    "A = U \\begin{bmatrix}0 & 0 & 0 \\\\ 0 & \\sqrt{3} & 0 \\\\ 0 & 0 & \\sqrt{12} \\end{bmatrix} U^\\mathsf{T}\n",
    "\\qquad\\text{and}\\qquad\n",
    "B = U \\begin{bmatrix}\\sqrt{2} & 0 & 0 \\\\ 0 & 0 & 0 \\\\ 0 & 0 & 0 \\end{bmatrix} U^\\mathsf{T}\n",
    "\\end{equation}\n",
    "with $v = (x,y,z)$ as before. Let's test that it gives the correct result for a random point:"
   ]
  },
  {
   "cell_type": "code",
   "execution_count": 4,
   "metadata": {},
   "outputs": [
    {
     "name": "stdout",
     "output_type": "stream",
     "text": [
      "A is equal to:[1.154700538379251 1.154700538379251 -0.5773502691896254; 1.154700538379251 1.154700538379251 -0.5773502691896254; -0.5773502691896254 -0.5773502691896254 2.8867513459481287]\n",
      "B is equal to:[0.7071067811865477 -0.7071067811865476 0.0; -0.7071067811865476 0.7071067811865475 0.0; 0.0 -0.0 0.0]\n",
      "v'Qv = -1.0276008777535126\n",
      "|Av|^2 - |Bv|^2 = -1.027600877753514\n"
     ]
    }
   ],
   "source": [
    "A = U * diagm(0 => [0, sqrt.(3), sqrt.(12)]) * U'\n",
    "B = U * diagm(0 => [sqrt.(2), 0, 0]) * U'\n",
    "println(\"A is equal to:\", A)\n",
    "println(\"B is equal to:\", B)\n",
    "println(\"v'Qv = \", (v'*Q*v)[1])\n",
    "println(\"|Av|^2 - |Bv|^2 = \", norm(A*v)^2 - norm(B*v)^2)"
   ]
  },
  {
   "cell_type": "markdown",
   "metadata": {},
   "source": [
    "**Solution to part d)**\n",
    "\n",
    "We can make the quadratic form negative. Once we can do that for some $v$, then any scalar multiple of that $v$ will lead to a _more_ negative result, which will still satisfy the constraint. In this case, it amounts to using any $v$ in the directly of $u_1$, since that leads to:\n",
    "\\begin{equation}\n",
    "u_1^\\mathsf{T} Q u_1 = u_1^\\mathsf{T} U \\begin{bmatrix}-2 & 0 & 0 \\\\ 0 & 3 & 0 \\\\ 0 & 0 & 12 \\end{bmatrix} U^\\mathsf{T} u_1 = -2\n",
    "\\end{equation}\n",
    "So let's compute $u_1$:"
   ]
  },
  {
   "cell_type": "code",
   "execution_count": 5,
   "metadata": {},
   "outputs": [
    {
     "name": "stdout",
     "output_type": "stream",
     "text": [
      "The following (x,y,z) makes the quadratic form negative:\n",
      "Value of quadratic form for this v\n"
     ]
    },
    {
     "data": {
      "text/plain": [
       "-4"
      ]
     },
     "metadata": {},
     "output_type": "display_data"
    }
   ],
   "source": [
    "Q = [2 4 -3; 4 2 -3; -3 -3 9]\n",
    "(L, U) = eigen(Q);\n",
    "\n",
    "println(\"The following (x,y,z) makes the quadratic form negative:\")\n",
    "vbad = U[:, 1]\n",
    "# display(vbad)\n",
    "vbad = [-1,1,0]\n",
    "\n",
    "# let's verify that it actually makes the quadratic form negative. We can take any multiple of this\n",
    "println(\"Value of quadratic form for this v\")\n",
    "sleep(.1)\n",
    "(x, y, z) = vbad\n",
    "display(2x^2 + 2y^2 + 9z^2 + 8x*y -6x*z - 6y*z)"
   ]
  },
  {
   "cell_type": "markdown",
   "metadata": {},
   "source": [
    "Now we have this value $v_\\text{bad} = u_1$ with norm $1$ that leads to $v_\\text{bad}^\\mathsf{T}Qv_\\text{bad} = -2 \\le 1$. Therefore, if we scale it by some $t > 0$, we get a norm of $t$ and $(v_\\text{bad}t)^\\mathsf{T}Q(v_\\text{bad}t) = -2t^2 \\le 1$. So we can make this vector as large as we want in norm by scaling it and it will still satisfy the constraint."
   ]
  },
  {
   "cell_type": "markdown",
   "metadata": {},
   "source": [
    "## 2. Enclosing circle\n",
    "\n",
    "Given a set of points in the plane $x_i \\in \\mathbb{R}^2$, we would like to find the circle\n",
    "with smallest possible area that contains all of the points. Explain how to model this as an optimization\n",
    "problem. To test your model, generate a set of 50 random points using the code `X = 4.+randn(2,50)`\n",
    "(this generates a $2\\times 50$ matrix $X$ whose columns are the $x_i$). Produce a plot of the randomly generated\n",
    "points along with the enclosing circle of smallest area."
   ]
  },
  {
   "cell_type": "markdown",
   "metadata": {},
   "source": [
    "### Model\n",
    "Input: Set of 50 random points X. ($X_{k,1}$,$X_{k,2}$) is the kth point's position.\n",
    "\n",
    "Variables: \n",
    "\n",
    "xc1,xc2 (the position of the circle's center)\n",
    "\n",
    "r>=0 (the radius)\n",
    "\n",
    "Model:\n",
    "\n",
    "$$\\begin{aligned}\n",
    "\\text{minimize}\\qquad& r \\\\\n",
    "\\text{subject to:}\\qquad& (X_{k,1}-xc1)^2 + (X_{k,2}-xc2)^2 \\leq r^2 \\qquad \\forall k = 1,2,\\cdots,50  \\qquad \\text{every point is contained in the circle}\\\\\n",
    "& r \\ge 0 \n",
    "\\end{aligned}$$"
   ]
  },
  {
   "cell_type": "code",
   "execution_count": 6,
   "metadata": {},
   "outputs": [
    {
     "name": "stdout",
     "output_type": "stream",
     "text": [
      "Academic license - for non-commercial use only - expires 2022-08-07\n",
      "The center of the circle is (3.47950075794807, 3.949190917763403). Radius is 3.054419654354594\n"
     ]
    },
    {
     "data": {
      "text/plain": [
       "1-element Vector{PyCall.PyObject}:\n",
       " PyObject <matplotlib.lines.Line2D object at 0x000000009C158280>"
      ]
     },
     "metadata": {},
     "output_type": "display_data"
    }
   ],
   "source": [
    "N = 50               # number of points\n",
    "X = 4 .+ randn(2,N)   # generate random points\n",
    "\n",
    "# plot \n",
    "t = range(0,stop=2π,length=100)   # parameter that traverses the circle\n",
    "\n",
    "# solve the problem --- this is an SOCP.\n",
    "using JuMP, Gurobi, LinearAlgebra\n",
    "\n",
    "m = Model(optimizer_with_attributes(Gurobi.Optimizer, \"OutputFlag\"=>0))\n",
    "\n",
    "@variable(m, xc[1:2]) # center of circle\n",
    "@variable(m, r) # radius square\n",
    "\n",
    "@constraint(m, constr[i in 1:N], [r; X[:,i] - xc] in SecondOrderCone()) # every point is in the circle\n",
    "@objective(m, Min, r)\n",
    "\n",
    "optimize!(m);\n",
    "\n",
    "# plot the points and the circle\n",
    "c1 = JuMP.value(xc[1])\n",
    "c2 = JuMP.value(xc[2])\n",
    "ropt = JuMP.value(r)\n",
    "\n",
    "println(\"The center of the circle is (\",c1,\", \", c2, \"). Radius is \", ropt)\n",
    "\n",
    "using PyPlot\n",
    "t = range(0,stop=2π,length=100)\n",
    "axis(\"equal\")\n",
    "scatter(c1, c2, color = \"red\");\n",
    "scatter( X[1,:], X[2,:], color = \"black\")\n",
    "plot( c1 .+ ropt*cos.(t), c2 .+ ropt*sin.(t))\n"
   ]
  },
  {
   "cell_type": "markdown",
   "metadata": {},
   "source": [
    "## 3. Huber loss\n",
    "\n",
    "In statistics, we frequently encounter data sets containing  _outliers_, which are bad data points arising from experimental error or abnormally high noise. Consider for example the following data set consisting of 15 pairs $(x,y)$.\n",
    "\n",
    "|$x$ | 1 | 2 | 3 | 4 | 5 | 6 | 7 | 8 | 9 | 10 | 11 | 12 | 13 | 14 | 15|\n",
    "|:--:|:--:|:--:|:--:|:--:|:--:|:--:|:--:|:--:|:--:|:--:|:--:|:--:|:--:|:--:|:--:|\n",
    "|$y$ | 6.31 | 3.78 | 5.12 | 1.71 | 2.99 | 4.53 | 2.11 | 3.88 | 4.67 | 26 | 2.06 | 23 | 1.58 | 2.17 | 0.02|\n",
    "\n",
    "The $y$ values corresponding to $x=10$ and $x=12$ are outliers because they are far outside the expected range of values for the experiment.\n",
    "\n",
    "**(a)** Compute the best linear fit to the data using an $\\ell_2$ cost (least squares). In other words, we are looking for the $a$ and $b$ that minimize the expression:\n",
    "$$\n",
    "\\text{$\\ell_2$ cost:}\\qquad \n",
    "\\sum_{i=1}^{15} (y_i - a x_i - b)^2\n",
    "$$\n",
    "Repeat the linear fit computation but this time exclude the outliers from your data set. On a single plot, show the data points and both linear fits. Explain the difference between both fits.\n",
    "\n",
    "**solution**\n",
    "The one without outliers has lower slope than the one with outliers. And it is obvious that the one without outliers fits better to the dataset without outliers.\n",
    "\n",
    "\n",
    "**(b)** It's not always practical to remove outliers from the data manually, so we'll investigate ways of automatically dealing with outliers by changing our cost function. Find the best linear fit again (including the outliers), but this time use the $\\ell_1$ cost function:\n",
    "$$\n",
    "\\text{$\\ell_1$ cost:}\\qquad \n",
    "\\sum_{i=1}^{15} \\left|\\,y_i - a x_i - b\\,\\right|\n",
    "$$\n",
    "Include a plot containing the data and the best $\\ell_1$ linear fit. Does the $\\ell_1$ cost handle outliers better or worse than least squares? Explain why.\n",
    "%You should notice that the $\\ell_1$ cost handles outliers better than least squares but there is still a bias; there are many more points below the line than above.\n",
    "\n",
    "**solution**\n",
    "The $\\ell_1$ handles the outliers better since the same residual will be larger in $\\ell_2$ than that in $\\ell_1$.\n",
    "\n",
    "\n",
    "**(c)** Another approach is to use an $\\ell_2$ penalty for points that are close to the line but an $\\ell_1$ penalty for points that are far away. Specifically, we'll use something called the _Huber loss_, defined as:\n",
    "$$\n",
    "\\phi(x) = \\begin{cases}\n",
    "x^2 & \\text{if } -M\\le x \\le M \\\\\n",
    "2M|x|-M^2 & \\text{otherwise}\n",
    "\\end{cases}\n",
    "$$\n",
    "Here, $M$ is a parameter that determines where the quadratic function transitions to a linear function. The formula above is simple, but not in a form that is useful for us. As it turns out, we can evaluate the Huber loss function at any point $x$ by solving the following convex QP instead:\n",
    "$$\n",
    "\\phi(x) = \\left\\{ \\begin{aligned}\n",
    "\\underset{v,w}{\\text{minimize}}\\quad & w^2 + 2 M v \\\\\n",
    "\\text{subject to:}\\quad & |x| \\le w + v \\\\\n",
    "&v \\ge 0,\\,\\, w \\le M\n",
    "\\end{aligned}\\right\\}\n",
    "$$\n",
    "Verify this fact by solving the above QP (with $M=1$) for many values of $x$ in the interval $-3 \\le x \\le 3$ and reproducing the plot above. Finally, find the best linear fit to our data  using a Huber loss with $M=1$ and produce a plot showing your fit. The cost function is:\n",
    "$$\n",
    "\\text{Huber loss:}\\qquad \n",
    "\\sum_{i=1}^{15} \\phi(\\,y_i - a x_i - b)\n",
    "$$"
   ]
  },
  {
   "cell_type": "markdown",
   "metadata": {},
   "source": [
    "### part a model\n",
    "\n",
    "Input: data points x, y (To exclude the outliers, just remove the 10th and 12th entry from x and y)\n",
    "\n",
    "Variables:\n",
    "a, b (The coefficients in the l2 cost)\n",
    "\n",
    "\n",
    "Model:\n",
    "$$\\begin{aligned}\n",
    "\\text{minimize}\\qquad& \\sum_{i=1}^{15} (y_i - ax_i -b)^2 \\\\\n",
    "\\end{aligned}$$\n",
    "\n",
    "\n",
    "### part b model\n",
    "\n",
    "Input: data points x, y (To exclude the outliers, just remove the 10th and 12th entry from x and y)\n",
    "\n",
    "Variables:\n",
    "a, b (The coefficients in the l2 cost)\n",
    "$t_i~i=1,2,\\cdots,15$ (Variables for the absolute value)\n",
    "\n",
    "\n",
    "Model:\n",
    "$$\\begin{aligned}\n",
    "\\text{minimize}\\qquad& \\sum_{i=1}^{15} t_i \\\\\n",
    "& y_i - ax_i -b \\leq t_i \\qquad \\forall i \\\\\n",
    "& -y_i + ax_i +b \\leq t_i \\qquad \\forall i \\\\\n",
    "\\end{aligned}$$\n",
    "\n",
    "\n",
    "### part c model\n",
    "\n",
    "Input: data points x, y (To exclude the outliers, just remove the 10th and 12th entry from x and y)\n",
    "\n",
    "Variables:\n",
    "a, b (The coefficients in the l2 cost)\n",
    "$w_i~i=1,2,\\cdots,15$ (Variables required by the Huber loss function)\n",
    "$v_i~i=1,2,\\cdots,15$ (Variables required by the Huber loss function)\n",
    "\n",
    "Model:\n",
    "$$\\begin{aligned}\n",
    "\\text{minimize}\\qquad& \\sum_{i=1}^{15} w_i^2 + 2Mv_i \\qquad \\text{Sum of the Huber loss for every data point} \\\\\n",
    "& y_i - ax_i -b \\leq w_i + v_i \\qquad \\forall i \\\\\n",
    "& -y_i + ax_i +b \\leq w_i + v_i \\qquad \\forall i \\\\\n",
    "& w_i \\leq M \\qquad \\forall i \\\\\n",
    "\\end{aligned}$$"
   ]
  },
  {
   "cell_type": "code",
   "execution_count": 7,
   "metadata": {},
   "outputs": [
    {
     "name": "stdout",
     "output_type": "stream",
     "text": [
      "Academic license - for non-commercial use only - expires 2022-08-07\r\n",
      "Academic license - for non-commercial use only - expires 2022-08-07\r\n",
      "Academic license - for non-commercial use only - expires 2022-08-07\r\n",
      "Academic license - for non-commercial use only - expires 2022-08-07\r\n"
     ]
    }
   ],
   "source": [
    "using JuMP,Gurobi\n",
    "\n",
    "y = [6.31, 3.78, 5.12, 1.71, 2.99, 4.53, 2.11, 3.88, 4.67, 26, 2.06, 23, 1.58, 2.17, 0.02]\n",
    "x = 1:15\n",
    "\n",
    "# PART A code\n",
    "\n",
    "# find the least-squares fit using ALL the data points\n",
    "c = 1:15\n",
    "m = Model(optimizer_with_attributes(Gurobi.Optimizer, \"OutputFlag\"=>0))\n",
    "@variable(m, a)\n",
    "@variable(m, b)\n",
    "@expression(m, t, sum((y[i] - a*x[i] - b)^2 for i in c ))\n",
    "@objective(m, Min, t)\n",
    "optimize!(m)\n",
    "status = termination_status(m)\n",
    "a1,b1 = JuMP.value(a),JuMP.value(b)\n",
    "\n",
    "# find the least squares fit REMOVING OUTLIERS\n",
    "c = [1:9; 11:11; 13:15]\n",
    "m = Model(optimizer_with_attributes(Gurobi.Optimizer, \"OutputFlag\"=>0))\n",
    "@variable(m, a)\n",
    "@variable(m, b)\n",
    "@expression(m, t, sum((y[i] - a*x[i] - b)^2 for i in c ))\n",
    "@objective(m, Min, t)\n",
    "optimize!(m)\n",
    "status = termination_status(m)\n",
    "a2,b2 = JuMP.value(a),JuMP.value(b)\n",
    "\n",
    "# PART B code\n",
    "\n",
    "# find the L1 fit using ALL the data points\n",
    "c = 1:15\n",
    "m = Model(optimizer_with_attributes(Gurobi.Optimizer, \"OutputFlag\"=>0))\n",
    "@variable(m, a)\n",
    "@variable(m, b)\n",
    "@variable(m, t[1:15] >= 0)\n",
    "@constraint(m, flow1[i in c], y[i] - a*x[i] - b <=  t[i])\n",
    "@constraint(m, flow2[i in c], y[i] - a*x[i] - b >= -t[i])\n",
    "@objective(m, Min, sum(t))\n",
    "optimize!(m)\n",
    "status = termination_status(m)\n",
    "a3,b3 = JuMP.value(a),JuMP.value(b)\n",
    "\n",
    "# find the L1 fit REMOVING OUTLIERS\n",
    "c = [1:9; 11:11; 13:15]\n",
    "m = Model(optimizer_with_attributes(Gurobi.Optimizer, \"OutputFlag\"=>0))\n",
    "@variable(m, a)\n",
    "@variable(m, b)\n",
    "@variable(m, t[1:15] >= 0)\n",
    "@constraint(m, flow1[i in c], y[i] - a*x[i] - b <=  t[i])\n",
    "@constraint(m, flow2[i in c], y[i] - a*x[i] - b >= -t[i])\n",
    "@objective(m, Min, sum(t))\n",
    "optimize!(m)\n",
    "status = termination_status(m)\n",
    "a4,b4 = JuMP.value(a),JuMP.value(b)\n",
    ";"
   ]
  },
  {
   "cell_type": "code",
   "execution_count": 8,
   "metadata": {},
   "outputs": [
    {
     "name": "stdout",
     "output_type": "stream",
     "text": [
      "Academic license - for non-commercial use only - expires 2022-08-07\r\n",
      "Academic license - for non-commercial use only - expires 2022-08-07\r\n",
      "Academic license - for non-commercial use only - expires 2022-08-07\r\n",
      "Academic license - for non-commercial use only - expires 2022-08-07\r\n",
      "Academic license - for non-commercial use only - expires 2022-08-07\r\n",
      "Academic license - for non-commercial use only - expires 2022-08-07\r\n",
      "Academic license - for non-commercial use only - expires 2022-08-07\r\n",
      "Academic license - for non-commercial use only - expires 2022-08-07\r\n",
      "Academic license - for non-commercial use only - expires 2022-08-07\r\n",
      "Academic license - for non-commercial use only - expires 2022-08-07\r\n",
      "Academic license - for non-commercial use only - expires 2022-08-07\r\n",
      "Academic license - for non-commercial use only - expires 2022-08-07\r\n",
      "Academic license - for non-commercial use only - expires 2022-08-07\r\n",
      "Academic license - for non-commercial use only - expires 2022-08-07\r\n",
      "Academic license - for non-commercial use only - expires 2022-08-07\r\n",
      "Academic license - for non-commercial use only - expires 2022-08-07\r\n",
      "Academic license - for non-commercial use only - expires 2022-08-07\r\n",
      "Academic license - for non-commercial use only - expires 2022-08-07\r\n",
      "Academic license - for non-commercial use only - expires 2022-08-07\r\n",
      "Academic license - for non-commercial use only - expires 2022-08-07\r\n",
      "Academic license - for non-commercial use only - expires 2022-08-07\r\n",
      "Academic license - for non-commercial use only - expires 2022-08-07\r\n",
      "Academic license - for non-commercial use only - expires 2022-08-07\r\n",
      "Academic license - for non-commercial use only - expires 2022-08-07\r\n",
      "Academic license - for non-commercial use only - expires 2022-08-07\r\n",
      "Academic license - for non-commercial use only - expires 2022-08-07\r\n",
      "Academic license - for non-commercial use only - expires 2022-08-07\r\n",
      "Academic license - for non-commercial use only - expires 2022-08-07\r\n",
      "Academic license - for non-commercial use only - expires 2022-08-07\r\n",
      "Academic license - for non-commercial use only - expires 2022-08-07\r\n",
      "Academic license - for non-commercial use only - expires 2022-08-07\r\n",
      "Academic license - for non-commercial use only - expires 2022-08-07\r\n",
      "Academic license - for non-commercial use only - expires 2022-08-07\r\n",
      "Academic license - for non-commercial use only - expires 2022-08-07\r\n",
      "Academic license - for non-commercial use only - expires 2022-08-07\r\n",
      "Academic license - for non-commercial use only - expires 2022-08-07\r\n",
      "Academic license - for non-commercial use only - expires 2022-08-07\r\n",
      "Academic license - for non-commercial use only - expires 2022-08-07\r\n",
      "Academic license - for non-commercial use only - expires 2022-08-07\r\n",
      "Academic license - for non-commercial use only - expires 2022-08-07\r\n",
      "Academic license - for non-commercial use only - expires 2022-08-07\r\n",
      "Academic license - for non-commercial use only - expires 2022-08-07\r\n",
      "Academic license - for non-commercial use only - expires 2022-08-07\r\n",
      "Academic license - for non-commercial use only - expires 2022-08-07\r\n",
      "Academic license - for non-commercial use only - expires 2022-08-07\r\n",
      "Academic license - for non-commercial use only - expires 2022-08-07\r\n",
      "Academic license - for non-commercial use only - expires 2022-08-07\r\n",
      "Academic license - for non-commercial use only - expires 2022-08-07\r\n",
      "Academic license - for non-commercial use only - expires 2022-08-07\r\n",
      "Academic license - for non-commercial use only - expires 2022-08-07\r\n"
     ]
    }
   ],
   "source": [
    "# PART C (first part)\n",
    "\n",
    "M = 1\n",
    "hx = range(-3,stop=3,length=50)\n",
    "\n",
    "# compute Huber loss using formula\n",
    "hy1 = zeros(size(hx))\n",
    "for (i,xx) in enumerate(hx)\n",
    "    if abs(xx) <= M\n",
    "        hy1[i] = xx^2\n",
    "    else\n",
    "        hy1[i] = 2*M*abs(xx) - M^2\n",
    "    end\n",
    "end\n",
    "\n",
    "# compute Huber loss using QP\n",
    "hy2 = zeros(size(hx))\n",
    "for (i,xx) in enumerate(hx)\n",
    "    m = Model(optimizer_with_attributes(Gurobi.Optimizer, \"OutputFlag\"=>0))\n",
    "    @variable(m, v >= 0)\n",
    "    @variable(m, w <= M)\n",
    "    @constraint(m, abs(xx) <= v + w)\n",
    "    @objective(m, Min, w^2 + 2*M*v)\n",
    "    optimize!(m)\n",
    "    hy2[i] = JuMP.objective_value(m)\n",
    "end\n",
    "\n",
    "using PyPlot\n",
    "figure(figsize = (12,3))\n",
    "\n",
    "subplot(1,2,1)\n",
    "plot(hx,hy1)\n",
    "axis([-3,3,0,5])\n",
    "title(\"Plot of Huber loss using formula\")\n",
    "\n",
    "subplot(1,2,2)\n",
    "plot(hx,hy2)\n",
    "axis([-3,3,0,5])\n",
    "title(\"Plot of Huber loss using QP\")\n",
    ";"
   ]
  },
  {
   "cell_type": "code",
   "execution_count": 9,
   "metadata": {},
   "outputs": [
    {
     "name": "stdout",
     "output_type": "stream",
     "text": [
      "Academic license - for non-commercial use only - expires 2022-08-07\r\n",
      "Academic license - for non-commercial use only - expires 2022-08-07\r\n"
     ]
    }
   ],
   "source": [
    "# PART C code\n",
    "\n",
    "# find the Huber fit using ALL the data points\n",
    "c = 1:15\n",
    "m = Model(optimizer_with_attributes(Gurobi.Optimizer, \"OutputFlag\"=>0))\n",
    "@variable(m, a)\n",
    "@variable(m, b)\n",
    "@variable(m, v[1:15] >= 0)\n",
    "@variable(m, w[1:15] <= M)\n",
    "@constraint(m, flow1[i in c], y[i] - a*x[i] - b <=  w[i] + v[i])\n",
    "@constraint(m, flow2[i in c], y[i] - a*x[i] - b >= -w[i] - v[i])\n",
    "@objective(m, Min, sum(w.^2) + 2*M*sum(v))\n",
    "optimize!(m)\n",
    "status = termination_status(m)\n",
    "a5,b5 = JuMP.value(a),JuMP.value(b)\n",
    "\n",
    "# find the Huber fit REMOVING OUTLIERS\n",
    "c = [1:9;11:11; 13:15]\n",
    "m = Model(optimizer_with_attributes(Gurobi.Optimizer, \"OutputFlag\"=>0))\n",
    "@variable(m, a)\n",
    "@variable(m, b)\n",
    "@variable(m, v[1:15] >= 0)\n",
    "@variable(m, w[1:15] <= M)\n",
    "@constraint(m, flow1[i in c], y[i] - a*x[i] - b <=  w[i] + v[i])\n",
    "@constraint(m, flow2[i in c], y[i] - a*x[i] - b >= -w[i] - v[i])\n",
    "@objective(m, Min, sum(w.^2) + 2*M*sum(v))\n",
    "optimize!(m)\n",
    "status = termination_status(m)\n",
    "a6,b6 = JuMP.value(a),JuMP.value(b)\n",
    ";"
   ]
  },
  {
   "cell_type": "code",
   "execution_count": 10,
   "metadata": {},
   "outputs": [],
   "source": [
    "# Make all the plots\n",
    "\n",
    "using PyPlot\n",
    "figure(figsize = (17,7))\n",
    "scatter(x,y,label=\"data\",color = \"black\")\n",
    "scatter([x[10],x[12]],[y[10],y[12]],label=\"outliers\",color = \"red\") # outliers\n",
    "plot(x, a1*x .+ b1,label=\"l2 with outliers\")\n",
    "plot(x, a3*x .+ b3,label=\"l1 with outliers\")\n",
    "plot(x, a5*x .+ b5,label=\"Huber with outliers\")\n",
    "plot(x, a2*x .+ b2,label=\"l2 without outliers\")\n",
    "plot(x, a4*x .+ b4,label=\"l1 without outliers\")\n",
    "plot(x, a6*x .+ b6,label=\"Huber without outliers\")\n",
    "legend(loc =\"best\")\n",
    "ylabel(\"y\")\n",
    "xlabel(\"x\")\n",
    ";"
   ]
  }
 ],
 "metadata": {
  "kernelspec": {
   "display_name": "Julia 1.6.0",
   "language": "julia",
   "name": "julia-1.6"
  },
  "language_info": {
   "file_extension": ".jl",
   "mimetype": "application/julia",
   "name": "julia",
   "version": "1.6.0"
  }
 },
 "nbformat": 4,
 "nbformat_minor": 2
}
