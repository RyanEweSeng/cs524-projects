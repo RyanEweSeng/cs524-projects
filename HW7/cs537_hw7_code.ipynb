{
 "cells": [
  {
   "cell_type": "markdown",
   "id": "69793db1",
   "metadata": {},
   "source": [
    "# CS 524 - Homework 7"
   ]
  },
  {
   "cell_type": "markdown",
   "id": "9b52cb10",
   "metadata": {},
   "source": [
    "## Question 1a\n"
   ]
  },
  {
   "cell_type": "markdown",
   "id": "a0b3cfe1",
   "metadata": {},
   "source": [
    "$$\n",
    "v =\n",
    "\\begin{bmatrix}\n",
    "x \\\\\n",
    "y \\\\\n",
    "z \\\\\n",
    "\\end{bmatrix} \\quad\n",
    "Q =\n",
    "\\begin{bmatrix}\n",
    "2 & 4 & -3 \\\\\n",
    "4 & 2 & -3 \\\\\n",
    "-3 & -3 & 9 \\\\\n",
    "\\end{bmatrix}\n",
    "$$"
   ]
  },
  {
   "cell_type": "markdown",
   "id": "99b2b44c",
   "metadata": {},
   "source": [
    "## Question 1b"
   ]
  },
  {
   "cell_type": "code",
   "execution_count": 117,
   "id": "2fac6df6",
   "metadata": {},
   "outputs": [
    {
     "data": {
      "text/plain": [
       "3-element Vector{Float64}:\n",
       " -1.9999999999999996\n",
       "  3.000000000000001\n",
       " 12.0"
      ]
     },
     "execution_count": 117,
     "metadata": {},
     "output_type": "execute_result"
    }
   ],
   "source": [
    "using LinearAlgebra\n",
    "\n",
    "Q = [2 4 -3; 4 2 -3; -3 -3 9]\n",
    "(L, U) = eigen(Q)\n",
    "L"
   ]
  },
  {
   "cell_type": "markdown",
   "id": "2279ead7",
   "metadata": {},
   "source": [
    "We know that the eigenvalues are -2, 3, and 12.\n",
    "Ellipsoids have to be definite with positive eigenvalues.\n",
    "Since one eigenvalue is strictly negative, we know that this is not an ellipsoid.\n",
    "Q is indefinite."
   ]
  },
  {
   "cell_type": "markdown",
   "id": "da769134",
   "metadata": {},
   "source": [
    "## Question 1c"
   ]
  },
  {
   "cell_type": "markdown",
   "id": "4d2b86a8",
   "metadata": {},
   "source": [
    "$$\n",
    "Q = U\n",
    "\\begin{bmatrix}\n",
    "-2 & 0 & 0 \\\\\n",
    "0 & 3 & 0 \\\\\n",
    "0 & 0 & 12 \\\\\n",
    "\\end{bmatrix}\n",
    "U^T \\\\\n",
    "$$\n",
    "\n",
    "we then split it to get:\n",
    "$$\n",
    "Q = U\n",
    "\\begin{bmatrix}\n",
    "0 & 0 & 0 \\\\\n",
    "0 & 3 & 0 \\\\\n",
    "0 & 0 & 12 \\\\\n",
    "\\end{bmatrix}\n",
    "U^T - U\n",
    "\\begin{bmatrix}\n",
    "\\sqrt2 & 0 & 0 \\\\\n",
    "0 & 0 & 0 \\\\\n",
    "0 & 0 & 0 \\\\\n",
    "\\end{bmatrix}\n",
    "U^T\n",
    "$$\n",
    "\n",
    "now we have two positive semidefinite matrices so we can use the matrix square root\n",
    "we have $Q = U\\Lambda U^T$ and $Q^{1/2} = U\\Lambda^{1/2}U^T$\n",
    "\n",
    "$$\n",
    "Q = U\n",
    "\\begin{bmatrix}\n",
    "0 & 0 & 0 \\\\\n",
    "0 & \\sqrt3 & 0 \\\\\n",
    "0 & 0 & \\sqrt12 \\\\\n",
    "\\end{bmatrix}\n",
    "U^T - U\n",
    "\\begin{bmatrix}\n",
    "\\sqrt2 & 0 & 0 \\\\\n",
    "0 & 0 & 0 \\\\\n",
    "0 & 0 & 0 \\\\\n",
    "\\end{bmatrix}\n",
    "U^T\n",
    "$$\n",
    "\n",
    "thus we have:\n",
    "$$\n",
    "A = U\n",
    "\\begin{bmatrix}\n",
    "0 & 0 & 0 \\\\\n",
    "0 & \\sqrt3 & 0 \\\\\n",
    "0 & 0 & \\sqrt12 \\\\\n",
    "\\end{bmatrix}\n",
    "U^T \\quad\n",
    "B = U\n",
    "\\begin{bmatrix}\n",
    "\\sqrt2 & 0 & 0 \\\\\n",
    "0 & 0 & 0 \\\\\n",
    "0 & 0 & 0 \\\\\n",
    "\\end{bmatrix}\n",
    "U^T \\quad\n",
    "v =\n",
    "\\begin{bmatrix}\n",
    "x \\\\\n",
    "y \\\\\n",
    "z \\\\\n",
    "\\end{bmatrix}\n",
    "$$"
   ]
  },
  {
   "cell_type": "markdown",
   "id": "d22e911d",
   "metadata": {},
   "source": [
    "## Question 1d"
   ]
  },
  {
   "cell_type": "markdown",
   "id": "f80119c9",
   "metadata": {},
   "source": [
    "let $(x', y', z')$ be an arbitrary direction\n",
    "let $\\lambda$ be the magnitude of the above vector\n",
    "\n",
    "we want to derive a way to find $x, y, z$ such that the objective function is unbounded while satisfying the constraint\n",
    "\n",
    "let $v = \\lambda(x', y', z')$ which we then substitute into the constraint (standard form):\n",
    "\n",
    "$$v^TQv = \\lambda(x', y', z')^TQ\\lambda(x', y', z') \\leq 1$$\n",
    "$$\\lambda^2(x', y', z')^TQ(x', y', z') \\leq 1$$\n",
    "$$(x', y', z')^TQ(x', y', z') \\leq \\frac{1}{\\lambda^2}$$\n",
    "\n",
    "since we want to find an infinitely large magnitude we get the following:\n",
    "\n",
    "$$2x^2 + 2y^2 + 9z^2 + 8xy - 6xz - 6yz \\leq 0$$\n",
    "\n",
    "This inequality will tell us the which direction will give an unbounded solution.\n",
    "By choosing an arbitrary x and y, we can calculate the value of z to yield the vector while holding the constraint."
   ]
  },
  {
   "cell_type": "markdown",
   "id": "5603d378",
   "metadata": {},
   "source": [
    "## Question 2"
   ]
  },
  {
   "cell_type": "markdown",
   "id": "351f8da6",
   "metadata": {},
   "source": [
    "first we define the optimization problem\n",
    "we want to minimize the circle while still ensuring it covers as many points as possible\n",
    "\n",
    "$$ \\text{minimize} \\quad R$$\n",
    "$$ \\text{subject to: }(X_i - x_{center})^2 + (Y_i - y_{center})^2 \\leq R \\quad \\text{for } i = 1, ..., 50$$\n",
    "\n",
    "R is the radius of the circle\n",
    "$x_{center}$ is the x-coordinate of the center of the circle\n",
    "$y_{center}$ is the y-coordinate of the center of the circle\n",
    "$X_i$ is the x-coordinate of the point\n",
    "$Y_i$ is the y-coordinate of the point\n",
    "$i$ is the point; till 50"
   ]
  },
  {
   "cell_type": "code",
   "execution_count": 119,
   "id": "9a599a5e",
   "metadata": {},
   "outputs": [
    {
     "data": {
      "image/png": "[encoded data removed]",
      "text/plain": [
       "Figure(PyObject <Figure size 640x480 with 1 Axes>)"
      ]
     },
     "metadata": {},
     "output_type": "display_data"
    },
    {
     "name": "stdout",
     "output_type": "stream",
     "text": [
      "Set parameter Username\r\n",
      "Academic license - for non-commercial use only - expires 2022-05-14\r\n"
     ]
    },
    {
     "data": {
      "text/plain": [
       "(0.6485035555857815, 6.391509291746406, 1.1025806081141465, 6.846309320768463)"
      ]
     },
     "execution_count": 119,
     "metadata": {},
     "output_type": "execute_result"
    }
   ],
   "source": [
    "using PyPlot\n",
    "using JuMP, Gurobi\n",
    "\n",
    "X = 4 .+ randn(2,50)\n",
    "\n",
    "m_circle = Model(with_optimizer(Gurobi.Optimizer, OutputFlag=0))\n",
    "\n",
    "@variable(m_circle, x_center)\n",
    "@variable(m_circle, y_center)\n",
    "@variable(m_circle, R)\n",
    "\n",
    "for i in 1:50\n",
    "    @constraint(m_circle, (X[1,i]-x_center)^2 + (X[2,i]-y_center)^2 <= R)\n",
    "end\n",
    "\n",
    "@objective(m_circle, Min, R)\n",
    "\n",
    "optimize!(m_circle)\n",
    "\n",
    "x = value(x_center)\n",
    "y = value(y_center)\n",
    "r = sqrt(value(R))\n",
    "t = range(0,stop=2pi,length=100)\n",
    "\n",
    "plot( x .+ r*cos.(t), y .+ r*sin.(t), color=\"red\") # plot circle radius r with center (x1,x2)\n",
    "scatter( X[1,:], X[2,:], color=\"blue\") # plot the 50 points\n",
    "axis(\"equal\")"
   ]
  },
  {
   "cell_type": "markdown",
   "id": "e7cfc632",
   "metadata": {},
   "source": [
    "## Question 3a"
   ]
  },
  {
   "cell_type": "code",
   "execution_count": 129,
   "id": "ce72a5fa",
   "metadata": {},
   "outputs": [
    {
     "data": {
      "image/png": "[encoded data removed]",
      "text/plain": [
       "Figure(PyObject <Figure size 640x480 with 1 Axes>)"
      ]
     },
     "metadata": {},
     "output_type": "display_data"
    },
    {
     "name": "stdout",
     "output_type": "stream",
     "text": [
      "Set parameter Username\r\n",
      "Academic license - for non-commercial use only - expires 2022-05-14\r\n",
      "value of a (w/ outliers): -0.29078571428551947\n",
      "value of b (w/ outliers): 8.130285714279665\n",
      "\n",
      "Set parameter Username\r\n",
      "Academic license - for non-commercial use only - expires 2022-05-14\r\n",
      "value of a (w/o outliers): -0.23648422408233874\n",
      "value of b (w/o outliers): 4.9916033483557305\n",
      "\n"
     ]
    }
   ],
   "source": [
    "using JuMP, Gurobi, PyPlot\n",
    "\n",
    "# data w/ outliers\n",
    "x = 1:15\n",
    "y = [6.31, 3.78, 24, 1.71, 2.99, 4.53, 2.11, 3.88, 4.67, 4.25, 2.06, 23, 1.58, 2.17, 0.02]\n",
    "\n",
    "# model w/ outliers\n",
    "m_outliers = Model(with_optimizer(Gurobi.Optimizer, OutputFlag=0))\n",
    "@variable(m_outliers, a1)\n",
    "@variable(m_outliers, b1)\n",
    "@objective(m_outliers, Min, sum((y[i] - a1*x[i] - b1)^2 for i in 1:15))\n",
    "optimize!(m_outliers)\n",
    "a1 = value(a1)\n",
    "b1 = value(b1)\n",
    "println(\"value of a (w/ outliers): \", a1)\n",
    "println(\"value of b (w/ outliers): \", b1)\n",
    "println()\n",
    "\n",
    "# data w/o outliers\n",
    "non_outliers = [1:2; 4:11; 13:15]\n",
    "\n",
    "# model w/o outliers\n",
    "m_no_outliers = Model(with_optimizer(Gurobi.Optimizer, OutputFlag=0))\n",
    "@variable(m_no_outliers, a2)\n",
    "@variable(m_no_outliers, b2)\n",
    "@objective(m_no_outliers, Min, sum((y[i] - a2*x[i] - b2)^2 for i in non_outliers))\n",
    "optimize!(m_no_outliers)\n",
    "a2 = value(a2)\n",
    "b2 = value(b2)\n",
    "println(\"value of a (w/o outliers): \", a2)\n",
    "println(\"value of b (w/o outliers): \", b2)\n",
    "println()\n",
    "\n",
    "# scatter plot\n",
    "scatter(x, y, color=\"red\")\n",
    "plot(x, a1*x .+ b1, color=\"blue\", label=\"with outliers\")\n",
    "plot(x, a2*x .+ b2, color=\"green\", label=\"without outliers\")\n",
    "legend()\n",
    "grid()"
   ]
  },
  {
   "cell_type": "markdown",
   "id": "611c5bcb",
   "metadata": {},
   "source": [
    "__EXPLANATION__: we see that w/ outliers (blue) the line is higher than w/o outliers (green) this is because the outliers affect it"
   ]
  },
  {
   "cell_type": "markdown",
   "id": "866ffa9e",
   "metadata": {},
   "source": [
    "## Question 3b"
   ]
  },
  {
   "cell_type": "code",
   "execution_count": 121,
   "id": "4e0fce7c",
   "metadata": {},
   "outputs": [
    {
     "data": {
      "image/png": "[encoded data removed]",
      "text/plain": [
       "Figure(PyObject <Figure size 640x480 with 1 Axes>)"
      ]
     },
     "metadata": {},
     "output_type": "display_data"
    },
    {
     "name": "stdout",
     "output_type": "stream",
     "text": [
      "Set parameter Username\r\n",
      "Academic license - for non-commercial use only - expires 2022-05-14\r\n"
     ]
    }
   ],
   "source": [
    "# model using L1 cost function\n",
    "# have to use epigraph trick to convert into a linear program\n",
    "m_l1 = Model(with_optimizer(Gurobi.Optimizer, OutputFlag=0))\n",
    "@variable(m_l1, a)\n",
    "@variable(m_l1, b)\n",
    "@variable(m_l1, t[1:15])\n",
    "for i in 1:15\n",
    "    @constraint(m_l1, y[i] - a*x[i] - b <= t[i])\n",
    "    @constraint(m_l1, y[i] - a*x[i] - b >= -t[i])\n",
    "end\n",
    "@objective(m_l1, Min, sum(t))\n",
    "optimize!(m_l1)\n",
    "a = value(a)\n",
    "b = value(b)\n",
    "\n",
    "# scatter plot\n",
    "scatter(x, y, color=\"red\")\n",
    "plot(x, a*x .+ b, color=\"blue\", label=\"with outliers and using L1 cost function\")\n",
    "legend()\n",
    "grid()"
   ]
  },
  {
   "cell_type": "code",
   "execution_count": 122,
   "id": "b83e90a8",
   "metadata": {},
   "outputs": [
    {
     "name": "stdout",
     "output_type": "stream",
     "text": [
      "err1: 30.457700000000003\n",
      "err2: 115.98970497417054\n"
     ]
    }
   ],
   "source": [
    "# evidence L1 cost function is better than L2 cost function\n",
    "# lets analyze the errors of both cost functions\n",
    "err1 = 0\n",
    "err2 = 0\n",
    "for i in non_outliers\n",
    "    err1 = err1 + (y[i] - a*x[i] - b)^2\n",
    "    err2 = err2 + (y[i] - a1*x[i] - b1)^2\n",
    "end\n",
    "println(\"err1: \", err1)\n",
    "println(\"err2: \", err2)"
   ]
  },
  {
   "cell_type": "markdown",
   "id": "cd79a3be",
   "metadata": {},
   "source": [
    "__EXPLANATION:__ we see that the errors in L2 are higher than that in L1 so L1 cost function is better than L2 cost function"
   ]
  },
  {
   "cell_type": "markdown",
   "id": "261fd92e",
   "metadata": {},
   "source": [
    "## Question 3c"
   ]
  },
  {
   "cell_type": "code",
   "execution_count": 123,
   "id": "63d7dfda",
   "metadata": {},
   "outputs": [
    {
     "name": "stdout",
     "output_type": "stream",
     "text": [
      "Set parameter Username\r\n",
      "Academic license - for non-commercial use only - expires 2022-05-14\r\n",
      "Set parameter Username\r\n",
      "Academic license - for non-commercial use only - expires 2022-05-14\r\n",
      "Set parameter Username\r\n",
      "Academic license - for non-commercial use only - expires 2022-05-14\r\n",
      "Set parameter Username\r\n",
      "Academic license - for non-commercial use only - expires 2022-05-14\r\n",
      "Set parameter Username\r\n",
      "Academic license - for non-commercial use only - expires 2022-05-14\r\n",
      "Set parameter Username\r\n",
      "Academic license - for non-commercial use only - expires 2022-05-14\r\n",
      "Set parameter Username\r\n",
      "Academic license - for non-commercial use only - expires 2022-05-14\r\n",
      "Set parameter Username\r\n",
      "Academic license - for non-commercial use only - expires 2022-05-14\r\n",
      "Set parameter Username\r\n",
      "Academic license - for non-commercial use only - expires 2022-05-14\r\n",
      "Set parameter Username\r\n",
      "Academic license - for non-commercial use only - expires 2022-05-14\r\n",
      "Set parameter Username\r\n",
      "Academic license - for non-commercial use only - expires 2022-05-14\r\n",
      "Set parameter Username\r\n",
      "Academic license - for non-commercial use only - expires 2022-05-14\r\n",
      "Set parameter Username\r\n",
      "Academic license - for non-commercial use only - expires 2022-05-14\r\n",
      "Set parameter Username\r\n",
      "Academic license - for non-commercial use only - expires 2022-05-14\r\n",
      "Set parameter Username\r\n",
      "Academic license - for non-commercial use only - expires 2022-05-14\r\n",
      "Set parameter Username\r\n",
      "Academic license - for non-commercial use only - expires 2022-05-14\r\n",
      "Set parameter Username\r\n",
      "Academic license - for non-commercial use only - expires 2022-05-14\r\n",
      "Set parameter Username\r\n",
      "Academic license - for non-commercial use only - expires 2022-05-14\r\n",
      "Set parameter Username\r\n",
      "Academic license - for non-commercial use only - expires 2022-05-14\r\n",
      "Set parameter Username\r\n",
      "Academic license - for non-commercial use only - expires 2022-05-14\r\n",
      "Set parameter Username\r\n",
      "Academic license - for non-commercial use only - expires 2022-05-14\r\n",
      "Set parameter Username\r\n",
      "Academic license - for non-commercial use only - expires 2022-05-14\r\n",
      "Set parameter Username\r\n",
      "Academic license - for non-commercial use only - expires 2022-05-14\r\n",
      "Set parameter Username\r\n",
      "Academic license - for non-commercial use only - expires 2022-05-14\r\n",
      "Set parameter Username\r\n",
      "Academic license - for non-commercial use only - expires 2022-05-14\r\n",
      "Set parameter Username\r\n",
      "Academic license - for non-commercial use only - expires 2022-05-14\r\n",
      "Set parameter Username\r\n",
      "Academic license - for non-commercial use only - expires 2022-05-14\r\n",
      "Set parameter Username\r\n",
      "Academic license - for non-commercial use only - expires 2022-05-14\r\n",
      "Set parameter Username\r\n",
      "Academic license - for non-commercial use only - expires 2022-05-14\r\n",
      "Set parameter Username\r\n",
      "Academic license - for non-commercial use only - expires 2022-05-14\r\n",
      "Set parameter Username\r\n",
      "Academic license - for non-commercial use only - expires 2022-05-14\r\n",
      "Set parameter Username\r\n",
      "Academic license - for non-commercial use only - expires 2022-05-14\r\n",
      "Set parameter Username\r\n",
      "Academic license - for non-commercial use only - expires 2022-05-14\r\n",
      "Set parameter Username\r\n",
      "Academic license - for non-commercial use only - expires 2022-05-14\r\n",
      "Set parameter Username\r\n",
      "Academic license - for non-commercial use only - expires 2022-05-14\r\n",
      "Set parameter Username\r\n",
      "Academic license - for non-commercial use only - expires 2022-05-14\r\n",
      "Set parameter Username\r\n",
      "Academic license - for non-commercial use only - expires 2022-05-14\r\n",
      "Set parameter Username\r\n",
      "Academic license - for non-commercial use only - expires 2022-05-14\r\n",
      "Set parameter Username\r\n",
      "Academic license - for non-commercial use only - expires 2022-05-14\r\n",
      "Set parameter Username\r\n",
      "Academic license - for non-commercial use only - expires 2022-05-14\r\n",
      "Set parameter Username\r\n",
      "Academic license - for non-commercial use only - expires 2022-05-14\r\n",
      "Set parameter Username\r\n",
      "Academic license - for non-commercial use only - expires 2022-05-14\r\n",
      "Set parameter Username\r\n",
      "Academic license - for non-commercial use only - expires 2022-05-14\r\n",
      "Set parameter Username\r\n",
      "Academic license - for non-commercial use only - expires 2022-05-14\r\n",
      "Set parameter Username\r\n",
      "Academic license - for non-commercial use only - expires 2022-05-14\r\n",
      "Set parameter Username\r\n",
      "Academic license - for non-commercial use only - expires 2022-05-14\r\n",
      "Set parameter Username\r\n",
      "Academic license - for non-commercial use only - expires 2022-05-14\r\n",
      "Set parameter Username\r\n",
      "Academic license - for non-commercial use only - expires 2022-05-14\r\n",
      "Set parameter Username\r\n",
      "Academic license - for non-commercial use only - expires 2022-05-14\r\n",
      "Set parameter Username\r\n",
      "Academic license - for non-commercial use only - expires 2022-05-14\r\n",
      "Set parameter Username\r\n",
      "Academic license - for non-commercial use only - expires 2022-05-14\r\n",
      "Set parameter Username\r\n",
      "Academic license - for non-commercial use only - expires 2022-05-14\r\n",
      "Set parameter Username\r\n",
      "Academic license - for non-commercial use only - expires 2022-05-14\r\n",
      "Set parameter Username\r\n",
      "Academic license - for non-commercial use only - expires 2022-05-14\r\n",
      "Set parameter Username\r\n",
      "Academic license - for non-commercial use only - expires 2022-05-14\r\n",
      "Set parameter Username\r\n",
      "Academic license - for non-commercial use only - expires 2022-05-14\r\n",
      "Set parameter Username\r\n",
      "Academic license - for non-commercial use only - expires 2022-05-14\r\n",
      "Set parameter Username\r\n",
      "Academic license - for non-commercial use only - expires 2022-05-14\r\n",
      "Set parameter Username\r\n",
      "Academic license - for non-commercial use only - expires 2022-05-14\r\n",
      "Set parameter Username\r\n",
      "Academic license - for non-commercial use only - expires 2022-05-14\r\n",
      "Set parameter Username\r\n",
      "Academic license - for non-commercial use only - expires 2022-05-14\r\n",
      "Set parameter Username\r\n",
      "Academic license - for non-commercial use only - expires 2022-05-14\r\n",
      "Set parameter Username\r\n",
      "Academic license - for non-commercial use only - expires 2022-05-14\r\n",
      "Set parameter Username\r\n",
      "Academic license - for non-commercial use only - expires 2022-05-14\r\n",
      "Set parameter Username\r\n",
      "Academic license - for non-commercial use only - expires 2022-05-14\r\n",
      "Set parameter Username\r\n",
      "Academic license - for non-commercial use only - expires 2022-05-14\r\n",
      "Set parameter Username\r\n",
      "Academic license - for non-commercial use only - expires 2022-05-14\r\n",
      "Set parameter Username\r\n",
      "Academic license - for non-commercial use only - expires 2022-05-14\r\n",
      "Set parameter Username\r\n",
      "Academic license - for non-commercial use only - expires 2022-05-14\r\n",
      "Set parameter Username\r\n",
      "Academic license - for non-commercial use only - expires 2022-05-14\r\n",
      "Set parameter Username\r\n",
      "Academic license - for non-commercial use only - expires 2022-05-14\r\n",
      "Set parameter Username\r\n",
      "Academic license - for non-commercial use only - expires 2022-05-14\r\n",
      "Set parameter Username\r\n",
      "Academic license - for non-commercial use only - expires 2022-05-14\r\n",
      "Set parameter Username\r\n",
      "Academic license - for non-commercial use only - expires 2022-05-14\r\n",
      "Set parameter Username\r\n",
      "Academic license - for non-commercial use only - expires 2022-05-14\r\n",
      "Set parameter Username\r\n",
      "Academic license - for non-commercial use only - expires 2022-05-14\r\n",
      "Set parameter Username\r\n",
      "Academic license - for non-commercial use only - expires 2022-05-14\r\n",
      "Set parameter Username\r\n",
      "Academic license - for non-commercial use only - expires 2022-05-14\r\n",
      "Set parameter Username\r\n",
      "Academic license - for non-commercial use only - expires 2022-05-14\r\n",
      "Set parameter Username\r\n",
      "Academic license - for non-commercial use only - expires 2022-05-14\r\n",
      "Set parameter Username\r\n",
      "Academic license - for non-commercial use only - expires 2022-05-14\r\n",
      "Set parameter Username\r\n",
      "Academic license - for non-commercial use only - expires 2022-05-14\r\n",
      "Set parameter Username\r\n",
      "Academic license - for non-commercial use only - expires 2022-05-14\r\n",
      "Set parameter Username\r\n",
      "Academic license - for non-commercial use only - expires 2022-05-14\r\n",
      "Set parameter Username\r\n",
      "Academic license - for non-commercial use only - expires 2022-05-14\r\n",
      "Set parameter Username\r\n",
      "Academic license - for non-commercial use only - expires 2022-05-14\r\n",
      "Set parameter Username\r\n",
      "Academic license - for non-commercial use only - expires 2022-05-14\r\n",
      "Set parameter Username\r\n",
      "Academic license - for non-commercial use only - expires 2022-05-14\r\n",
      "Set parameter Username\r\n",
      "Academic license - for non-commercial use only - expires 2022-05-14\r\n",
      "Set parameter Username\r\n",
      "Academic license - for non-commercial use only - expires 2022-05-14\r\n",
      "Set parameter Username\r\n",
      "Academic license - for non-commercial use only - expires 2022-05-14\r\n",
      "Set parameter Username\r\n",
      "Academic license - for non-commercial use only - expires 2022-05-14\r\n",
      "Set parameter Username\r\n",
      "Academic license - for non-commercial use only - expires 2022-05-14\r\n",
      "Set parameter Username\r\n",
      "Academic license - for non-commercial use only - expires 2022-05-14\r\n",
      "Set parameter Username\r\n",
      "Academic license - for non-commercial use only - expires 2022-05-14\r\n",
      "Set parameter Username\r\n",
      "Academic license - for non-commercial use only - expires 2022-05-14\r\n",
      "Set parameter Username\r\n",
      "Academic license - for non-commercial use only - expires 2022-05-14\r\n",
      "Set parameter Username\r\n",
      "Academic license - for non-commercial use only - expires 2022-05-14\r\n",
      "Set parameter Username\r\n",
      "Academic license - for non-commercial use only - expires 2022-05-14\r\n",
      "Set parameter Username\r\n",
      "Academic license - for non-commercial use only - expires 2022-05-14\r\n"
     ]
    }
   ],
   "source": [
    "# model the convex QP\n",
    "M = 1\n",
    "X = range(-3, 3, 100)\n",
    "results = []\n",
    "\n",
    "for i in X\n",
    "    m = Model(with_optimizer(Gurobi.Optimizer, OutputFlag=0))\n",
    "    @variable(m, v >= 0)\n",
    "    @variable(m, w <= M)\n",
    "    @objective(m, Min, w^2 + 2*M*v)\n",
    "    @constraint(m, i <= w + v)  # again using epigraph trick\n",
    "    @constraint(m, -i <= w + v)  # again using epigraph trick\n",
    "    optimize!(m)\n",
    "    push!(results, objective_value(m))\n",
    "end"
   ]
  },
  {
   "cell_type": "code",
   "execution_count": 124,
   "id": "1d1819a5",
   "metadata": {},
   "outputs": [
    {
     "data": {
      "image/png": "[encoded data removed]",
      "text/plain": [
       "Figure(PyObject <Figure size 640x480 with 1 Axes>)"
      ]
     },
     "metadata": {},
     "output_type": "display_data"
    }
   ],
   "source": [
    "plot(X, results)\n",
    "title(\"Huber Loss using QP\")\n",
    "grid()"
   ]
  },
  {
   "cell_type": "code",
   "execution_count": 128,
   "id": "f7d09867",
   "metadata": {},
   "outputs": [
    {
     "data": {
      "image/png": "[encoded data removed]",
      "text/plain": [
       "Figure(PyObject <Figure size 640x480 with 1 Axes>)"
      ]
     },
     "metadata": {},
     "output_type": "display_data"
    },
    {
     "name": "stdout",
     "output_type": "stream",
     "text": [
      "Set parameter Username\r\n",
      "Academic license - for non-commercial use only - expires 2022-05-14\r\n",
      "\n",
      "value of a (using Huber Loss): -0.2811079944855354\n",
      "value of b (using Huber Loss): 5.738120618284127\n"
     ]
    }
   ],
   "source": [
    "# model using Huber Loss\n",
    "m_huber = Model(with_optimizer(Gurobi.Optimizer, OutputFlag=0))\n",
    "@variable(m_huber, a_huber)\n",
    "@variable(m_huber, b_huber)\n",
    "@variable(m_huber, v[1:15] >= 0)\n",
    "@variable(m_huber, w[1:15] <= M)\n",
    "for i in 1:15\n",
    "    @constraint(m_huber, y[i] - a_huber*x[i] - b_huber <= w[i] + v[i])  # again using epigraph trick\n",
    "    @constraint(m_huber, y[i] - a_huber*x[i] - b_huber >= -w[i] - v[i])  # again using epigraph trick\n",
    "end\n",
    "@objective(m_huber, Min, sum(w[i]^2 + 2*M*v[i] for i in 1:15))\n",
    "optimize!(m_huber)\n",
    "a_huber = value(a_huber)\n",
    "b_huber = value(b_huber)\n",
    "\n",
    "println()\n",
    "println(\"value of a (using Huber Loss): \", a_huber)\n",
    "println(\"value of b (using Huber Loss): \", b_huber)\n",
    "\n",
    "scatter(x, y, color=\"red\")\n",
    "plot(x, a_huber*x .+ b_huber, color=\"blue\", label=\"with outliers and using Huber Loss\")\n",
    "legend()\n",
    "grid()"
   ]
  },
  {
   "cell_type": "code",
   "execution_count": null,
   "id": "9fd9230d",
   "metadata": {},
   "outputs": [],
   "source": []
  },
  {
   "cell_type": "code",
   "execution_count": null,
   "id": "3580eeac",
   "metadata": {},
   "outputs": [],
   "source": []
  }
 ],
 "metadata": {
  "kernelspec": {
   "display_name": "Julia 1.7.1",
   "language": "julia",
   "name": "julia-1.7"
  },
  "language_info": {
   "file_extension": ".jl",
   "mimetype": "application/julia",
   "name": "julia",
   "version": "1.7.1"
  }
 },
 "nbformat": 4,
 "nbformat_minor": 5
}
